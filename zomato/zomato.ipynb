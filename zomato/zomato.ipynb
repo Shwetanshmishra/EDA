{
 "cells": [
  {
   "cell_type": "code",
   "execution_count": null,
   "id": "a7c325cc",
   "metadata": {},
   "outputs": [],
   "source": [
    "import numpy as np\n",
    "import pandas as pd\n",
    "import matplotlib.pyplot as plt\n",
    "import seaborn as sns"
   ]
  },
  {
   "cell_type": "code",
   "execution_count": null,
   "id": "96286dfe",
   "metadata": {},
   "outputs": [],
   "source": [
    "df = pd.read_csv('zomato.csv', encoding='latin1')"
   ]
  },
  {
   "cell_type": "code",
   "execution_count": null,
   "id": "6ec60a09",
   "metadata": {},
   "outputs": [
    {
     "data": {
      "application/vnd.microsoft.datawrangler.viewer.v0+json": {
       "columns": [
        {
         "name": "index",
         "rawType": "int64",
         "type": "integer"
        },
        {
         "name": "Restaurant ID",
         "rawType": "int64",
         "type": "integer"
        },
        {
         "name": "Restaurant Name",
         "rawType": "object",
         "type": "string"
        },
        {
         "name": "Country Code",
         "rawType": "int64",
         "type": "integer"
        },
        {
         "name": "City",
         "rawType": "object",
         "type": "string"
        },
        {
         "name": "Address",
         "rawType": "object",
         "type": "string"
        },
        {
         "name": "Locality",
         "rawType": "object",
         "type": "string"
        },
        {
         "name": "Locality Verbose",
         "rawType": "object",
         "type": "string"
        },
        {
         "name": "Longitude",
         "rawType": "float64",
         "type": "float"
        },
        {
         "name": "Latitude",
         "rawType": "float64",
         "type": "float"
        },
        {
         "name": "Cuisines",
         "rawType": "object",
         "type": "string"
        },
        {
         "name": "Average Cost for two",
         "rawType": "int64",
         "type": "integer"
        },
        {
         "name": "Currency",
         "rawType": "object",
         "type": "string"
        },
        {
         "name": "Has Table booking",
         "rawType": "object",
         "type": "string"
        },
        {
         "name": "Has Online delivery",
         "rawType": "object",
         "type": "string"
        },
        {
         "name": "Is delivering now",
         "rawType": "object",
         "type": "string"
        },
        {
         "name": "Switch to order menu",
         "rawType": "object",
         "type": "string"
        },
        {
         "name": "Price range",
         "rawType": "int64",
         "type": "integer"
        },
        {
         "name": "Aggregate rating",
         "rawType": "float64",
         "type": "float"
        },
        {
         "name": "Rating color",
         "rawType": "object",
         "type": "string"
        },
        {
         "name": "Rating text",
         "rawType": "object",
         "type": "string"
        },
        {
         "name": "Votes",
         "rawType": "int64",
         "type": "integer"
        }
       ],
       "ref": "fc7fcc55-a1a0-4871-9511-22bc48d53821",
       "rows": [
        [
         "0",
         "6317637",
         "Le Petit Souffle",
         "162",
         "Makati City",
         "Third Floor, Century City Mall, Kalayaan Avenue, Poblacion, Makati City",
         "Century City Mall, Poblacion, Makati City",
         "Century City Mall, Poblacion, Makati City, Makati City",
         "121.027535",
         "14.565443",
         "French, Japanese, Desserts",
         "1100",
         "Botswana Pula(P)",
         "Yes",
         "No",
         "No",
         "No",
         "3",
         "4.8",
         "Dark Green",
         "Excellent",
         "314"
        ],
        [
         "1",
         "6304287",
         "Izakaya Kikufuji",
         "162",
         "Makati City",
         "Little Tokyo, 2277 Chino Roces Avenue, Legaspi Village, Makati City",
         "Little Tokyo, Legaspi Village, Makati City",
         "Little Tokyo, Legaspi Village, Makati City, Makati City",
         "121.014101",
         "14.553708",
         "Japanese",
         "1200",
         "Botswana Pula(P)",
         "Yes",
         "No",
         "No",
         "No",
         "3",
         "4.5",
         "Dark Green",
         "Excellent",
         "591"
        ],
        [
         "2",
         "6300002",
         "Heat - Edsa Shangri-La",
         "162",
         "Mandaluyong City",
         "Edsa Shangri-La, 1 Garden Way, Ortigas, Mandaluyong City",
         "Edsa Shangri-La, Ortigas, Mandaluyong City",
         "Edsa Shangri-La, Ortigas, Mandaluyong City, Mandaluyong City",
         "121.056831",
         "14.581404",
         "Seafood, Asian, Filipino, Indian",
         "4000",
         "Botswana Pula(P)",
         "Yes",
         "No",
         "No",
         "No",
         "4",
         "4.4",
         "Green",
         "Very Good",
         "270"
        ],
        [
         "3",
         "6318506",
         "Ooma",
         "162",
         "Mandaluyong City",
         "Third Floor, Mega Fashion Hall, SM Megamall, Ortigas, Mandaluyong City",
         "SM Megamall, Ortigas, Mandaluyong City",
         "SM Megamall, Ortigas, Mandaluyong City, Mandaluyong City",
         "121.056475",
         "14.585318",
         "Japanese, Sushi",
         "1500",
         "Botswana Pula(P)",
         "No",
         "No",
         "No",
         "No",
         "4",
         "4.9",
         "Dark Green",
         "Excellent",
         "365"
        ],
        [
         "4",
         "6314302",
         "Sambo Kojin",
         "162",
         "Mandaluyong City",
         "Third Floor, Mega Atrium, SM Megamall, Ortigas, Mandaluyong City",
         "SM Megamall, Ortigas, Mandaluyong City",
         "SM Megamall, Ortigas, Mandaluyong City, Mandaluyong City",
         "121.057508",
         "14.58445",
         "Japanese, Korean",
         "1500",
         "Botswana Pula(P)",
         "Yes",
         "No",
         "No",
         "No",
         "4",
         "4.8",
         "Dark Green",
         "Excellent",
         "229"
        ]
       ],
       "shape": {
        "columns": 21,
        "rows": 5
       }
      },
      "text/html": [
       "<div>\n",
       "<style scoped>\n",
       "    .dataframe tbody tr th:only-of-type {\n",
       "        vertical-align: middle;\n",
       "    }\n",
       "\n",
       "    .dataframe tbody tr th {\n",
       "        vertical-align: top;\n",
       "    }\n",
       "\n",
       "    .dataframe thead th {\n",
       "        text-align: right;\n",
       "    }\n",
       "</style>\n",
       "<table border=\"1\" class=\"dataframe\">\n",
       "  <thead>\n",
       "    <tr style=\"text-align: right;\">\n",
       "      <th></th>\n",
       "      <th>Restaurant ID</th>\n",
       "      <th>Restaurant Name</th>\n",
       "      <th>Country Code</th>\n",
       "      <th>City</th>\n",
       "      <th>Address</th>\n",
       "      <th>Locality</th>\n",
       "      <th>Locality Verbose</th>\n",
       "      <th>Longitude</th>\n",
       "      <th>Latitude</th>\n",
       "      <th>Cuisines</th>\n",
       "      <th>...</th>\n",
       "      <th>Currency</th>\n",
       "      <th>Has Table booking</th>\n",
       "      <th>Has Online delivery</th>\n",
       "      <th>Is delivering now</th>\n",
       "      <th>Switch to order menu</th>\n",
       "      <th>Price range</th>\n",
       "      <th>Aggregate rating</th>\n",
       "      <th>Rating color</th>\n",
       "      <th>Rating text</th>\n",
       "      <th>Votes</th>\n",
       "    </tr>\n",
       "  </thead>\n",
       "  <tbody>\n",
       "    <tr>\n",
       "      <th>0</th>\n",
       "      <td>6317637</td>\n",
       "      <td>Le Petit Souffle</td>\n",
       "      <td>162</td>\n",
       "      <td>Makati City</td>\n",
       "      <td>Third Floor, Century City Mall, Kalayaan Avenu...</td>\n",
       "      <td>Century City Mall, Poblacion, Makati City</td>\n",
       "      <td>Century City Mall, Poblacion, Makati City, Mak...</td>\n",
       "      <td>121.027535</td>\n",
       "      <td>14.565443</td>\n",
       "      <td>French, Japanese, Desserts</td>\n",
       "      <td>...</td>\n",
       "      <td>Botswana Pula(P)</td>\n",
       "      <td>Yes</td>\n",
       "      <td>No</td>\n",
       "      <td>No</td>\n",
       "      <td>No</td>\n",
       "      <td>3</td>\n",
       "      <td>4.8</td>\n",
       "      <td>Dark Green</td>\n",
       "      <td>Excellent</td>\n",
       "      <td>314</td>\n",
       "    </tr>\n",
       "    <tr>\n",
       "      <th>1</th>\n",
       "      <td>6304287</td>\n",
       "      <td>Izakaya Kikufuji</td>\n",
       "      <td>162</td>\n",
       "      <td>Makati City</td>\n",
       "      <td>Little Tokyo, 2277 Chino Roces Avenue, Legaspi...</td>\n",
       "      <td>Little Tokyo, Legaspi Village, Makati City</td>\n",
       "      <td>Little Tokyo, Legaspi Village, Makati City, Ma...</td>\n",
       "      <td>121.014101</td>\n",
       "      <td>14.553708</td>\n",
       "      <td>Japanese</td>\n",
       "      <td>...</td>\n",
       "      <td>Botswana Pula(P)</td>\n",
       "      <td>Yes</td>\n",
       "      <td>No</td>\n",
       "      <td>No</td>\n",
       "      <td>No</td>\n",
       "      <td>3</td>\n",
       "      <td>4.5</td>\n",
       "      <td>Dark Green</td>\n",
       "      <td>Excellent</td>\n",
       "      <td>591</td>\n",
       "    </tr>\n",
       "    <tr>\n",
       "      <th>2</th>\n",
       "      <td>6300002</td>\n",
       "      <td>Heat - Edsa Shangri-La</td>\n",
       "      <td>162</td>\n",
       "      <td>Mandaluyong City</td>\n",
       "      <td>Edsa Shangri-La, 1 Garden Way, Ortigas, Mandal...</td>\n",
       "      <td>Edsa Shangri-La, Ortigas, Mandaluyong City</td>\n",
       "      <td>Edsa Shangri-La, Ortigas, Mandaluyong City, Ma...</td>\n",
       "      <td>121.056831</td>\n",
       "      <td>14.581404</td>\n",
       "      <td>Seafood, Asian, Filipino, Indian</td>\n",
       "      <td>...</td>\n",
       "      <td>Botswana Pula(P)</td>\n",
       "      <td>Yes</td>\n",
       "      <td>No</td>\n",
       "      <td>No</td>\n",
       "      <td>No</td>\n",
       "      <td>4</td>\n",
       "      <td>4.4</td>\n",
       "      <td>Green</td>\n",
       "      <td>Very Good</td>\n",
       "      <td>270</td>\n",
       "    </tr>\n",
       "    <tr>\n",
       "      <th>3</th>\n",
       "      <td>6318506</td>\n",
       "      <td>Ooma</td>\n",
       "      <td>162</td>\n",
       "      <td>Mandaluyong City</td>\n",
       "      <td>Third Floor, Mega Fashion Hall, SM Megamall, O...</td>\n",
       "      <td>SM Megamall, Ortigas, Mandaluyong City</td>\n",
       "      <td>SM Megamall, Ortigas, Mandaluyong City, Mandal...</td>\n",
       "      <td>121.056475</td>\n",
       "      <td>14.585318</td>\n",
       "      <td>Japanese, Sushi</td>\n",
       "      <td>...</td>\n",
       "      <td>Botswana Pula(P)</td>\n",
       "      <td>No</td>\n",
       "      <td>No</td>\n",
       "      <td>No</td>\n",
       "      <td>No</td>\n",
       "      <td>4</td>\n",
       "      <td>4.9</td>\n",
       "      <td>Dark Green</td>\n",
       "      <td>Excellent</td>\n",
       "      <td>365</td>\n",
       "    </tr>\n",
       "    <tr>\n",
       "      <th>4</th>\n",
       "      <td>6314302</td>\n",
       "      <td>Sambo Kojin</td>\n",
       "      <td>162</td>\n",
       "      <td>Mandaluyong City</td>\n",
       "      <td>Third Floor, Mega Atrium, SM Megamall, Ortigas...</td>\n",
       "      <td>SM Megamall, Ortigas, Mandaluyong City</td>\n",
       "      <td>SM Megamall, Ortigas, Mandaluyong City, Mandal...</td>\n",
       "      <td>121.057508</td>\n",
       "      <td>14.584450</td>\n",
       "      <td>Japanese, Korean</td>\n",
       "      <td>...</td>\n",
       "      <td>Botswana Pula(P)</td>\n",
       "      <td>Yes</td>\n",
       "      <td>No</td>\n",
       "      <td>No</td>\n",
       "      <td>No</td>\n",
       "      <td>4</td>\n",
       "      <td>4.8</td>\n",
       "      <td>Dark Green</td>\n",
       "      <td>Excellent</td>\n",
       "      <td>229</td>\n",
       "    </tr>\n",
       "  </tbody>\n",
       "</table>\n",
       "<p>5 rows × 21 columns</p>\n",
       "</div>"
      ],
      "text/plain": [
       "   Restaurant ID         Restaurant Name  Country Code              City  \\\n",
       "0        6317637        Le Petit Souffle           162       Makati City   \n",
       "1        6304287        Izakaya Kikufuji           162       Makati City   \n",
       "2        6300002  Heat - Edsa Shangri-La           162  Mandaluyong City   \n",
       "3        6318506                    Ooma           162  Mandaluyong City   \n",
       "4        6314302             Sambo Kojin           162  Mandaluyong City   \n",
       "\n",
       "                                             Address  \\\n",
       "0  Third Floor, Century City Mall, Kalayaan Avenu...   \n",
       "1  Little Tokyo, 2277 Chino Roces Avenue, Legaspi...   \n",
       "2  Edsa Shangri-La, 1 Garden Way, Ortigas, Mandal...   \n",
       "3  Third Floor, Mega Fashion Hall, SM Megamall, O...   \n",
       "4  Third Floor, Mega Atrium, SM Megamall, Ortigas...   \n",
       "\n",
       "                                     Locality  \\\n",
       "0   Century City Mall, Poblacion, Makati City   \n",
       "1  Little Tokyo, Legaspi Village, Makati City   \n",
       "2  Edsa Shangri-La, Ortigas, Mandaluyong City   \n",
       "3      SM Megamall, Ortigas, Mandaluyong City   \n",
       "4      SM Megamall, Ortigas, Mandaluyong City   \n",
       "\n",
       "                                    Locality Verbose   Longitude   Latitude  \\\n",
       "0  Century City Mall, Poblacion, Makati City, Mak...  121.027535  14.565443   \n",
       "1  Little Tokyo, Legaspi Village, Makati City, Ma...  121.014101  14.553708   \n",
       "2  Edsa Shangri-La, Ortigas, Mandaluyong City, Ma...  121.056831  14.581404   \n",
       "3  SM Megamall, Ortigas, Mandaluyong City, Mandal...  121.056475  14.585318   \n",
       "4  SM Megamall, Ortigas, Mandaluyong City, Mandal...  121.057508  14.584450   \n",
       "\n",
       "                           Cuisines  ...          Currency Has Table booking  \\\n",
       "0        French, Japanese, Desserts  ...  Botswana Pula(P)               Yes   \n",
       "1                          Japanese  ...  Botswana Pula(P)               Yes   \n",
       "2  Seafood, Asian, Filipino, Indian  ...  Botswana Pula(P)               Yes   \n",
       "3                   Japanese, Sushi  ...  Botswana Pula(P)                No   \n",
       "4                  Japanese, Korean  ...  Botswana Pula(P)               Yes   \n",
       "\n",
       "  Has Online delivery Is delivering now Switch to order menu Price range  \\\n",
       "0                  No                No                   No           3   \n",
       "1                  No                No                   No           3   \n",
       "2                  No                No                   No           4   \n",
       "3                  No                No                   No           4   \n",
       "4                  No                No                   No           4   \n",
       "\n",
       "   Aggregate rating  Rating color Rating text Votes  \n",
       "0               4.8    Dark Green   Excellent   314  \n",
       "1               4.5    Dark Green   Excellent   591  \n",
       "2               4.4         Green   Very Good   270  \n",
       "3               4.9    Dark Green   Excellent   365  \n",
       "4               4.8    Dark Green   Excellent   229  \n",
       "\n",
       "[5 rows x 21 columns]"
      ]
     },
     "execution_count": 3,
     "metadata": {},
     "output_type": "execute_result"
    }
   ],
   "source": [
    "df.head()"
   ]
  },
  {
   "cell_type": "code",
   "execution_count": null,
   "id": "6741bb8c",
   "metadata": {},
   "outputs": [
    {
     "data": {
      "text/plain": [
       "Index(['Restaurant ID', 'Restaurant Name', 'Country Code', 'City', 'Address',\n",
       "       'Locality', 'Locality Verbose', 'Longitude', 'Latitude', 'Cuisines',\n",
       "       'Average Cost for two', 'Currency', 'Has Table booking',\n",
       "       'Has Online delivery', 'Is delivering now', 'Switch to order menu',\n",
       "       'Price range', 'Aggregate rating', 'Rating color', 'Rating text',\n",
       "       'Votes'],\n",
       "      dtype='object')"
      ]
     },
     "execution_count": 4,
     "metadata": {},
     "output_type": "execute_result"
    }
   ],
   "source": [
    "df.columns"
   ]
  },
  {
   "cell_type": "code",
   "execution_count": null,
   "id": "5832ec4b",
   "metadata": {},
   "outputs": [
    {
     "name": "stdout",
     "output_type": "stream",
     "text": [
      "<class 'pandas.core.frame.DataFrame'>\n",
      "RangeIndex: 9551 entries, 0 to 9550\n",
      "Data columns (total 21 columns):\n",
      " #   Column                Non-Null Count  Dtype  \n",
      "---  ------                --------------  -----  \n",
      " 0   Restaurant ID         9551 non-null   int64  \n",
      " 1   Restaurant Name       9551 non-null   object \n",
      " 2   Country Code          9551 non-null   int64  \n",
      " 3   City                  9551 non-null   object \n",
      " 4   Address               9551 non-null   object \n",
      " 5   Locality              9551 non-null   object \n",
      " 6   Locality Verbose      9551 non-null   object \n",
      " 7   Longitude             9551 non-null   float64\n",
      " 8   Latitude              9551 non-null   float64\n",
      " 9   Cuisines              9542 non-null   object \n",
      " 10  Average Cost for two  9551 non-null   int64  \n",
      " 11  Currency              9551 non-null   object \n",
      " 12  Has Table booking     9551 non-null   object \n",
      " 13  Has Online delivery   9551 non-null   object \n",
      " 14  Is delivering now     9551 non-null   object \n",
      " 15  Switch to order menu  9551 non-null   object \n",
      " 16  Price range           9551 non-null   int64  \n",
      " 17  Aggregate rating      9551 non-null   float64\n",
      " 18  Rating color          9551 non-null   object \n",
      " 19  Rating text           9551 non-null   object \n",
      " 20  Votes                 9551 non-null   int64  \n",
      "dtypes: float64(3), int64(5), object(13)\n",
      "memory usage: 1.5+ MB\n"
     ]
    }
   ],
   "source": [
    "df.info()"
   ]
  },
  {
   "cell_type": "code",
   "execution_count": null,
   "id": "8c0ad93c",
   "metadata": {},
   "outputs": [
    {
     "data": {
      "application/vnd.microsoft.datawrangler.viewer.v0+json": {
       "columns": [
        {
         "name": "index",
         "rawType": "object",
         "type": "string"
        },
        {
         "name": "Restaurant ID",
         "rawType": "float64",
         "type": "float"
        },
        {
         "name": "Country Code",
         "rawType": "float64",
         "type": "float"
        },
        {
         "name": "Longitude",
         "rawType": "float64",
         "type": "float"
        },
        {
         "name": "Latitude",
         "rawType": "float64",
         "type": "float"
        },
        {
         "name": "Average Cost for two",
         "rawType": "float64",
         "type": "float"
        },
        {
         "name": "Price range",
         "rawType": "float64",
         "type": "float"
        },
        {
         "name": "Aggregate rating",
         "rawType": "float64",
         "type": "float"
        },
        {
         "name": "Votes",
         "rawType": "float64",
         "type": "float"
        }
       ],
       "ref": "f48bc585-667e-48dd-a6e7-f929daafec8f",
       "rows": [
        [
         "count",
         "9551.0",
         "9551.0",
         "9551.0",
         "9551.0",
         "9551.0",
         "9551.0",
         "9551.0",
         "9551.0"
        ],
        [
         "mean",
         "9051128.349178096",
         "18.365616165846507",
         "64.12657446168706",
         "25.854380700074756",
         "1199.2107632708617",
         "1.804837189823055",
         "2.66637001361114",
         "156.909747670401"
        ],
        [
         "std",
         "8791521.282104313",
         "56.750545600949856",
         "41.467057847617575",
         "11.007935124784685",
         "16121.18307349965",
         "0.9056088473975366",
         "1.5163775396521686",
         "430.1691453762977"
        ],
        [
         "min",
         "53.0",
         "1.0",
         "-157.948486",
         "-41.330428",
         "0.0",
         "1.0",
         "0.0",
         "0.0"
        ],
        [
         "25%",
         "301962.5",
         "1.0",
         "77.08134305",
         "28.4787126",
         "250.0",
         "1.0",
         "2.5",
         "5.0"
        ],
        [
         "50%",
         "6004089.0",
         "1.0",
         "77.1919642",
         "28.57046888",
         "400.0",
         "2.0",
         "3.2",
         "31.0"
        ],
        [
         "75%",
         "18352291.5",
         "1.0",
         "77.2820063",
         "28.6427582",
         "700.0",
         "2.0",
         "3.7",
         "131.0"
        ],
        [
         "max",
         "18500652.0",
         "216.0",
         "174.8320893",
         "55.97698",
         "800000.0",
         "4.0",
         "4.9",
         "10934.0"
        ]
       ],
       "shape": {
        "columns": 8,
        "rows": 8
       }
      },
      "text/html": [
       "<div>\n",
       "<style scoped>\n",
       "    .dataframe tbody tr th:only-of-type {\n",
       "        vertical-align: middle;\n",
       "    }\n",
       "\n",
       "    .dataframe tbody tr th {\n",
       "        vertical-align: top;\n",
       "    }\n",
       "\n",
       "    .dataframe thead th {\n",
       "        text-align: right;\n",
       "    }\n",
       "</style>\n",
       "<table border=\"1\" class=\"dataframe\">\n",
       "  <thead>\n",
       "    <tr style=\"text-align: right;\">\n",
       "      <th></th>\n",
       "      <th>Restaurant ID</th>\n",
       "      <th>Country Code</th>\n",
       "      <th>Longitude</th>\n",
       "      <th>Latitude</th>\n",
       "      <th>Average Cost for two</th>\n",
       "      <th>Price range</th>\n",
       "      <th>Aggregate rating</th>\n",
       "      <th>Votes</th>\n",
       "    </tr>\n",
       "  </thead>\n",
       "  <tbody>\n",
       "    <tr>\n",
       "      <th>count</th>\n",
       "      <td>9.551000e+03</td>\n",
       "      <td>9551.000000</td>\n",
       "      <td>9551.000000</td>\n",
       "      <td>9551.000000</td>\n",
       "      <td>9551.000000</td>\n",
       "      <td>9551.000000</td>\n",
       "      <td>9551.000000</td>\n",
       "      <td>9551.000000</td>\n",
       "    </tr>\n",
       "    <tr>\n",
       "      <th>mean</th>\n",
       "      <td>9.051128e+06</td>\n",
       "      <td>18.365616</td>\n",
       "      <td>64.126574</td>\n",
       "      <td>25.854381</td>\n",
       "      <td>1199.210763</td>\n",
       "      <td>1.804837</td>\n",
       "      <td>2.666370</td>\n",
       "      <td>156.909748</td>\n",
       "    </tr>\n",
       "    <tr>\n",
       "      <th>std</th>\n",
       "      <td>8.791521e+06</td>\n",
       "      <td>56.750546</td>\n",
       "      <td>41.467058</td>\n",
       "      <td>11.007935</td>\n",
       "      <td>16121.183073</td>\n",
       "      <td>0.905609</td>\n",
       "      <td>1.516378</td>\n",
       "      <td>430.169145</td>\n",
       "    </tr>\n",
       "    <tr>\n",
       "      <th>min</th>\n",
       "      <td>5.300000e+01</td>\n",
       "      <td>1.000000</td>\n",
       "      <td>-157.948486</td>\n",
       "      <td>-41.330428</td>\n",
       "      <td>0.000000</td>\n",
       "      <td>1.000000</td>\n",
       "      <td>0.000000</td>\n",
       "      <td>0.000000</td>\n",
       "    </tr>\n",
       "    <tr>\n",
       "      <th>25%</th>\n",
       "      <td>3.019625e+05</td>\n",
       "      <td>1.000000</td>\n",
       "      <td>77.081343</td>\n",
       "      <td>28.478713</td>\n",
       "      <td>250.000000</td>\n",
       "      <td>1.000000</td>\n",
       "      <td>2.500000</td>\n",
       "      <td>5.000000</td>\n",
       "    </tr>\n",
       "    <tr>\n",
       "      <th>50%</th>\n",
       "      <td>6.004089e+06</td>\n",
       "      <td>1.000000</td>\n",
       "      <td>77.191964</td>\n",
       "      <td>28.570469</td>\n",
       "      <td>400.000000</td>\n",
       "      <td>2.000000</td>\n",
       "      <td>3.200000</td>\n",
       "      <td>31.000000</td>\n",
       "    </tr>\n",
       "    <tr>\n",
       "      <th>75%</th>\n",
       "      <td>1.835229e+07</td>\n",
       "      <td>1.000000</td>\n",
       "      <td>77.282006</td>\n",
       "      <td>28.642758</td>\n",
       "      <td>700.000000</td>\n",
       "      <td>2.000000</td>\n",
       "      <td>3.700000</td>\n",
       "      <td>131.000000</td>\n",
       "    </tr>\n",
       "    <tr>\n",
       "      <th>max</th>\n",
       "      <td>1.850065e+07</td>\n",
       "      <td>216.000000</td>\n",
       "      <td>174.832089</td>\n",
       "      <td>55.976980</td>\n",
       "      <td>800000.000000</td>\n",
       "      <td>4.000000</td>\n",
       "      <td>4.900000</td>\n",
       "      <td>10934.000000</td>\n",
       "    </tr>\n",
       "  </tbody>\n",
       "</table>\n",
       "</div>"
      ],
      "text/plain": [
       "       Restaurant ID  Country Code    Longitude     Latitude  \\\n",
       "count   9.551000e+03   9551.000000  9551.000000  9551.000000   \n",
       "mean    9.051128e+06     18.365616    64.126574    25.854381   \n",
       "std     8.791521e+06     56.750546    41.467058    11.007935   \n",
       "min     5.300000e+01      1.000000  -157.948486   -41.330428   \n",
       "25%     3.019625e+05      1.000000    77.081343    28.478713   \n",
       "50%     6.004089e+06      1.000000    77.191964    28.570469   \n",
       "75%     1.835229e+07      1.000000    77.282006    28.642758   \n",
       "max     1.850065e+07    216.000000   174.832089    55.976980   \n",
       "\n",
       "       Average Cost for two  Price range  Aggregate rating         Votes  \n",
       "count           9551.000000  9551.000000       9551.000000   9551.000000  \n",
       "mean            1199.210763     1.804837          2.666370    156.909748  \n",
       "std            16121.183073     0.905609          1.516378    430.169145  \n",
       "min                0.000000     1.000000          0.000000      0.000000  \n",
       "25%              250.000000     1.000000          2.500000      5.000000  \n",
       "50%              400.000000     2.000000          3.200000     31.000000  \n",
       "75%              700.000000     2.000000          3.700000    131.000000  \n",
       "max           800000.000000     4.000000          4.900000  10934.000000  "
      ]
     },
     "execution_count": 6,
     "metadata": {},
     "output_type": "execute_result"
    }
   ],
   "source": [
    "df.describe()"
   ]
  },
  {
   "cell_type": "markdown",
   "id": "9597a07c",
   "metadata": {},
   "source": [
    "## In Data Analysis What All Things We Do\n",
    "1. Missing value:\n",
    "2. Explore about numerical variables\n",
    "3. Explore about categorical variable\n",
    "4. Finding Relationship between featrures \n",
    "\n"
   ]
  },
  {
   "cell_type": "code",
   "execution_count": null,
   "id": "df2bde47",
   "metadata": {},
   "outputs": [
    {
     "data": {
      "application/vnd.microsoft.datawrangler.viewer.v0+json": {
       "columns": [
        {
         "name": "index",
         "rawType": "object",
         "type": "string"
        },
        {
         "name": "0",
         "rawType": "int64",
         "type": "integer"
        }
       ],
       "ref": "9336951e-0a4b-45d0-a458-8b20b788d8c0",
       "rows": [
        [
         "Restaurant ID",
         "0"
        ],
        [
         "Restaurant Name",
         "0"
        ],
        [
         "Country Code",
         "0"
        ],
        [
         "City",
         "0"
        ],
        [
         "Address",
         "0"
        ],
        [
         "Locality",
         "0"
        ],
        [
         "Locality Verbose",
         "0"
        ],
        [
         "Longitude",
         "0"
        ],
        [
         "Latitude",
         "0"
        ],
        [
         "Cuisines",
         "9"
        ],
        [
         "Average Cost for two",
         "0"
        ],
        [
         "Currency",
         "0"
        ],
        [
         "Has Table booking",
         "0"
        ],
        [
         "Has Online delivery",
         "0"
        ],
        [
         "Is delivering now",
         "0"
        ],
        [
         "Switch to order menu",
         "0"
        ],
        [
         "Price range",
         "0"
        ],
        [
         "Aggregate rating",
         "0"
        ],
        [
         "Rating color",
         "0"
        ],
        [
         "Rating text",
         "0"
        ],
        [
         "Votes",
         "0"
        ]
       ],
       "shape": {
        "columns": 1,
        "rows": 21
       }
      },
      "text/plain": [
       "Restaurant ID           0\n",
       "Restaurant Name         0\n",
       "Country Code            0\n",
       "City                    0\n",
       "Address                 0\n",
       "Locality                0\n",
       "Locality Verbose        0\n",
       "Longitude               0\n",
       "Latitude                0\n",
       "Cuisines                9\n",
       "Average Cost for two    0\n",
       "Currency                0\n",
       "Has Table booking       0\n",
       "Has Online delivery     0\n",
       "Is delivering now       0\n",
       "Switch to order menu    0\n",
       "Price range             0\n",
       "Aggregate rating        0\n",
       "Rating color            0\n",
       "Rating text             0\n",
       "Votes                   0\n",
       "dtype: int64"
      ]
     },
     "execution_count": 7,
     "metadata": {},
     "output_type": "execute_result"
    }
   ],
   "source": [
    "df.isnull().sum()"
   ]
  },
  {
   "cell_type": "code",
   "execution_count": null,
   "id": "f5d437c5",
   "metadata": {},
   "outputs": [
    {
     "data": {
      "text/plain": [
       "['Cuisines']"
      ]
     },
     "execution_count": 8,
     "metadata": {},
     "output_type": "execute_result"
    }
   ],
   "source": [
    "\n",
    "[features for features in df.columns if df[features].isnull().sum()]"
   ]
  },
  {
   "cell_type": "code",
   "execution_count": null,
   "id": "705f4259",
   "metadata": {},
   "outputs": [
    {
     "data": {
      "text/plain": [
       "<Axes: >"
      ]
     },
     "execution_count": 9,
     "metadata": {},
     "output_type": "execute_result"
    },
    {
     "data": {
      "image/png": "[encoded data removed]",
      "text/plain": [
       "<Figure size 1200x600 with 1 Axes>"
      ]
     },
     "metadata": {},
     "output_type": "display_data"
    }
   ],
   "source": [
    "plt.rcParams['figure.figsize']=[12,6]\n",
    "sns.heatmap(df.isnull(), cbar=False, cmap='viridis')"
   ]
  },
  {
   "cell_type": "code",
   "execution_count": null,
   "id": "c2e817b2",
   "metadata": {},
   "outputs": [
    {
     "data": {
      "application/vnd.microsoft.datawrangler.viewer.v0+json": {
       "columns": [
        {
         "name": "index",
         "rawType": "int64",
         "type": "integer"
        },
        {
         "name": "Country Code",
         "rawType": "int64",
         "type": "integer"
        },
        {
         "name": "Country",
         "rawType": "object",
         "type": "string"
        }
       ],
       "ref": "5a2f58bb-8060-40a3-b1f8-84b99b2d476d",
       "rows": [
        [
         "0",
         "1",
         "India"
        ],
        [
         "1",
         "14",
         "Australia"
        ],
        [
         "2",
         "30",
         "Brazil"
        ],
        [
         "3",
         "37",
         "Canada"
        ],
        [
         "4",
         "94",
         "Indonesia"
        ]
       ],
       "shape": {
        "columns": 2,
        "rows": 5
       }
      },
      "text/html": [
       "<div>\n",
       "<style scoped>\n",
       "    .dataframe tbody tr th:only-of-type {\n",
       "        vertical-align: middle;\n",
       "    }\n",
       "\n",
       "    .dataframe tbody tr th {\n",
       "        vertical-align: top;\n",
       "    }\n",
       "\n",
       "    .dataframe thead th {\n",
       "        text-align: right;\n",
       "    }\n",
       "</style>\n",
       "<table border=\"1\" class=\"dataframe\">\n",
       "  <thead>\n",
       "    <tr style=\"text-align: right;\">\n",
       "      <th></th>\n",
       "      <th>Country Code</th>\n",
       "      <th>Country</th>\n",
       "    </tr>\n",
       "  </thead>\n",
       "  <tbody>\n",
       "    <tr>\n",
       "      <th>0</th>\n",
       "      <td>1</td>\n",
       "      <td>India</td>\n",
       "    </tr>\n",
       "    <tr>\n",
       "      <th>1</th>\n",
       "      <td>14</td>\n",
       "      <td>Australia</td>\n",
       "    </tr>\n",
       "    <tr>\n",
       "      <th>2</th>\n",
       "      <td>30</td>\n",
       "      <td>Brazil</td>\n",
       "    </tr>\n",
       "    <tr>\n",
       "      <th>3</th>\n",
       "      <td>37</td>\n",
       "      <td>Canada</td>\n",
       "    </tr>\n",
       "    <tr>\n",
       "      <th>4</th>\n",
       "      <td>94</td>\n",
       "      <td>Indonesia</td>\n",
       "    </tr>\n",
       "  </tbody>\n",
       "</table>\n",
       "</div>"
      ],
      "text/plain": [
       "   Country Code    Country\n",
       "0             1      India\n",
       "1            14  Australia\n",
       "2            30     Brazil\n",
       "3            37     Canada\n",
       "4            94  Indonesia"
      ]
     },
     "execution_count": 10,
     "metadata": {},
     "output_type": "execute_result"
    }
   ],
   "source": [
    "df_country=pd.read_excel('Country-code.xlsx')\n",
    "df_country.head()"
   ]
  },
  {
   "cell_type": "code",
   "execution_count": null,
   "id": "ddc48de2",
   "metadata": {},
   "outputs": [],
   "source": [
    "final_df=pd.merge(df,df_country,on='Country Code',how='left')"
   ]
  },
  {
   "cell_type": "code",
   "execution_count": null,
   "id": "d5a7ae00",
   "metadata": {},
   "outputs": [
    {
     "data": {
      "application/vnd.microsoft.datawrangler.viewer.v0+json": {
       "columns": [
        {
         "name": "index",
         "rawType": "int64",
         "type": "integer"
        },
        {
         "name": "Restaurant ID",
         "rawType": "int64",
         "type": "integer"
        },
        {
         "name": "Restaurant Name",
         "rawType": "object",
         "type": "string"
        },
        {
         "name": "Country Code",
         "rawType": "int64",
         "type": "integer"
        },
        {
         "name": "City",
         "rawType": "object",
         "type": "string"
        },
        {
         "name": "Address",
         "rawType": "object",
         "type": "string"
        },
        {
         "name": "Locality",
         "rawType": "object",
         "type": "string"
        },
        {
         "name": "Locality Verbose",
         "rawType": "object",
         "type": "string"
        },
        {
         "name": "Longitude",
         "rawType": "float64",
         "type": "float"
        },
        {
         "name": "Latitude",
         "rawType": "float64",
         "type": "float"
        },
        {
         "name": "Cuisines",
         "rawType": "object",
         "type": "string"
        },
        {
         "name": "Average Cost for two",
         "rawType": "int64",
         "type": "integer"
        },
        {
         "name": "Currency",
         "rawType": "object",
         "type": "string"
        },
        {
         "name": "Has Table booking",
         "rawType": "object",
         "type": "string"
        },
        {
         "name": "Has Online delivery",
         "rawType": "object",
         "type": "string"
        },
        {
         "name": "Is delivering now",
         "rawType": "object",
         "type": "string"
        },
        {
         "name": "Switch to order menu",
         "rawType": "object",
         "type": "string"
        },
        {
         "name": "Price range",
         "rawType": "int64",
         "type": "integer"
        },
        {
         "name": "Aggregate rating",
         "rawType": "float64",
         "type": "float"
        },
        {
         "name": "Rating color",
         "rawType": "object",
         "type": "string"
        },
        {
         "name": "Rating text",
         "rawType": "object",
         "type": "string"
        },
        {
         "name": "Votes",
         "rawType": "int64",
         "type": "integer"
        },
        {
         "name": "Country",
         "rawType": "object",
         "type": "string"
        }
       ],
       "ref": "53818ed7-1b8d-45ec-b5c6-641504c0aa68",
       "rows": [
        [
         "0",
         "6317637",
         "Le Petit Souffle",
         "162",
         "Makati City",
         "Third Floor, Century City Mall, Kalayaan Avenue, Poblacion, Makati City",
         "Century City Mall, Poblacion, Makati City",
         "Century City Mall, Poblacion, Makati City, Makati City",
         "121.027535",
         "14.565443",
         "French, Japanese, Desserts",
         "1100",
         "Botswana Pula(P)",
         "Yes",
         "No",
         "No",
         "No",
         "3",
         "4.8",
         "Dark Green",
         "Excellent",
         "314",
         "Phillipines"
        ],
        [
         "1",
         "6304287",
         "Izakaya Kikufuji",
         "162",
         "Makati City",
         "Little Tokyo, 2277 Chino Roces Avenue, Legaspi Village, Makati City",
         "Little Tokyo, Legaspi Village, Makati City",
         "Little Tokyo, Legaspi Village, Makati City, Makati City",
         "121.014101",
         "14.553708",
         "Japanese",
         "1200",
         "Botswana Pula(P)",
         "Yes",
         "No",
         "No",
         "No",
         "3",
         "4.5",
         "Dark Green",
         "Excellent",
         "591",
         "Phillipines"
        ],
        [
         "2",
         "6300002",
         "Heat - Edsa Shangri-La",
         "162",
         "Mandaluyong City",
         "Edsa Shangri-La, 1 Garden Way, Ortigas, Mandaluyong City",
         "Edsa Shangri-La, Ortigas, Mandaluyong City",
         "Edsa Shangri-La, Ortigas, Mandaluyong City, Mandaluyong City",
         "121.056831",
         "14.581404",
         "Seafood, Asian, Filipino, Indian",
         "4000",
         "Botswana Pula(P)",
         "Yes",
         "No",
         "No",
         "No",
         "4",
         "4.4",
         "Green",
         "Very Good",
         "270",
         "Phillipines"
        ],
        [
         "3",
         "6318506",
         "Ooma",
         "162",
         "Mandaluyong City",
         "Third Floor, Mega Fashion Hall, SM Megamall, Ortigas, Mandaluyong City",
         "SM Megamall, Ortigas, Mandaluyong City",
         "SM Megamall, Ortigas, Mandaluyong City, Mandaluyong City",
         "121.056475",
         "14.585318",
         "Japanese, Sushi",
         "1500",
         "Botswana Pula(P)",
         "No",
         "No",
         "No",
         "No",
         "4",
         "4.9",
         "Dark Green",
         "Excellent",
         "365",
         "Phillipines"
        ],
        [
         "4",
         "6314302",
         "Sambo Kojin",
         "162",
         "Mandaluyong City",
         "Third Floor, Mega Atrium, SM Megamall, Ortigas, Mandaluyong City",
         "SM Megamall, Ortigas, Mandaluyong City",
         "SM Megamall, Ortigas, Mandaluyong City, Mandaluyong City",
         "121.057508",
         "14.58445",
         "Japanese, Korean",
         "1500",
         "Botswana Pula(P)",
         "Yes",
         "No",
         "No",
         "No",
         "4",
         "4.8",
         "Dark Green",
         "Excellent",
         "229",
         "Phillipines"
        ]
       ],
       "shape": {
        "columns": 22,
        "rows": 5
       }
      },
      "text/html": [
       "<div>\n",
       "<style scoped>\n",
       "    .dataframe tbody tr th:only-of-type {\n",
       "        vertical-align: middle;\n",
       "    }\n",
       "\n",
       "    .dataframe tbody tr th {\n",
       "        vertical-align: top;\n",
       "    }\n",
       "\n",
       "    .dataframe thead th {\n",
       "        text-align: right;\n",
       "    }\n",
       "</style>\n",
       "<table border=\"1\" class=\"dataframe\">\n",
       "  <thead>\n",
       "    <tr style=\"text-align: right;\">\n",
       "      <th></th>\n",
       "      <th>Restaurant ID</th>\n",
       "      <th>Restaurant Name</th>\n",
       "      <th>Country Code</th>\n",
       "      <th>City</th>\n",
       "      <th>Address</th>\n",
       "      <th>Locality</th>\n",
       "      <th>Locality Verbose</th>\n",
       "      <th>Longitude</th>\n",
       "      <th>Latitude</th>\n",
       "      <th>Cuisines</th>\n",
       "      <th>...</th>\n",
       "      <th>Has Table booking</th>\n",
       "      <th>Has Online delivery</th>\n",
       "      <th>Is delivering now</th>\n",
       "      <th>Switch to order menu</th>\n",
       "      <th>Price range</th>\n",
       "      <th>Aggregate rating</th>\n",
       "      <th>Rating color</th>\n",
       "      <th>Rating text</th>\n",
       "      <th>Votes</th>\n",
       "      <th>Country</th>\n",
       "    </tr>\n",
       "  </thead>\n",
       "  <tbody>\n",
       "    <tr>\n",
       "      <th>0</th>\n",
       "      <td>6317637</td>\n",
       "      <td>Le Petit Souffle</td>\n",
       "      <td>162</td>\n",
       "      <td>Makati City</td>\n",
       "      <td>Third Floor, Century City Mall, Kalayaan Avenu...</td>\n",
       "      <td>Century City Mall, Poblacion, Makati City</td>\n",
       "      <td>Century City Mall, Poblacion, Makati City, Mak...</td>\n",
       "      <td>121.027535</td>\n",
       "      <td>14.565443</td>\n",
       "      <td>French, Japanese, Desserts</td>\n",
       "      <td>...</td>\n",
       "      <td>Yes</td>\n",
       "      <td>No</td>\n",
       "      <td>No</td>\n",
       "      <td>No</td>\n",
       "      <td>3</td>\n",
       "      <td>4.8</td>\n",
       "      <td>Dark Green</td>\n",
       "      <td>Excellent</td>\n",
       "      <td>314</td>\n",
       "      <td>Phillipines</td>\n",
       "    </tr>\n",
       "    <tr>\n",
       "      <th>1</th>\n",
       "      <td>6304287</td>\n",
       "      <td>Izakaya Kikufuji</td>\n",
       "      <td>162</td>\n",
       "      <td>Makati City</td>\n",
       "      <td>Little Tokyo, 2277 Chino Roces Avenue, Legaspi...</td>\n",
       "      <td>Little Tokyo, Legaspi Village, Makati City</td>\n",
       "      <td>Little Tokyo, Legaspi Village, Makati City, Ma...</td>\n",
       "      <td>121.014101</td>\n",
       "      <td>14.553708</td>\n",
       "      <td>Japanese</td>\n",
       "      <td>...</td>\n",
       "      <td>Yes</td>\n",
       "      <td>No</td>\n",
       "      <td>No</td>\n",
       "      <td>No</td>\n",
       "      <td>3</td>\n",
       "      <td>4.5</td>\n",
       "      <td>Dark Green</td>\n",
       "      <td>Excellent</td>\n",
       "      <td>591</td>\n",
       "      <td>Phillipines</td>\n",
       "    </tr>\n",
       "    <tr>\n",
       "      <th>2</th>\n",
       "      <td>6300002</td>\n",
       "      <td>Heat - Edsa Shangri-La</td>\n",
       "      <td>162</td>\n",
       "      <td>Mandaluyong City</td>\n",
       "      <td>Edsa Shangri-La, 1 Garden Way, Ortigas, Mandal...</td>\n",
       "      <td>Edsa Shangri-La, Ortigas, Mandaluyong City</td>\n",
       "      <td>Edsa Shangri-La, Ortigas, Mandaluyong City, Ma...</td>\n",
       "      <td>121.056831</td>\n",
       "      <td>14.581404</td>\n",
       "      <td>Seafood, Asian, Filipino, Indian</td>\n",
       "      <td>...</td>\n",
       "      <td>Yes</td>\n",
       "      <td>No</td>\n",
       "      <td>No</td>\n",
       "      <td>No</td>\n",
       "      <td>4</td>\n",
       "      <td>4.4</td>\n",
       "      <td>Green</td>\n",
       "      <td>Very Good</td>\n",
       "      <td>270</td>\n",
       "      <td>Phillipines</td>\n",
       "    </tr>\n",
       "    <tr>\n",
       "      <th>3</th>\n",
       "      <td>6318506</td>\n",
       "      <td>Ooma</td>\n",
       "      <td>162</td>\n",
       "      <td>Mandaluyong City</td>\n",
       "      <td>Third Floor, Mega Fashion Hall, SM Megamall, O...</td>\n",
       "      <td>SM Megamall, Ortigas, Mandaluyong City</td>\n",
       "      <td>SM Megamall, Ortigas, Mandaluyong City, Mandal...</td>\n",
       "      <td>121.056475</td>\n",
       "      <td>14.585318</td>\n",
       "      <td>Japanese, Sushi</td>\n",
       "      <td>...</td>\n",
       "      <td>No</td>\n",
       "      <td>No</td>\n",
       "      <td>No</td>\n",
       "      <td>No</td>\n",
       "      <td>4</td>\n",
       "      <td>4.9</td>\n",
       "      <td>Dark Green</td>\n",
       "      <td>Excellent</td>\n",
       "      <td>365</td>\n",
       "      <td>Phillipines</td>\n",
       "    </tr>\n",
       "    <tr>\n",
       "      <th>4</th>\n",
       "      <td>6314302</td>\n",
       "      <td>Sambo Kojin</td>\n",
       "      <td>162</td>\n",
       "      <td>Mandaluyong City</td>\n",
       "      <td>Third Floor, Mega Atrium, SM Megamall, Ortigas...</td>\n",
       "      <td>SM Megamall, Ortigas, Mandaluyong City</td>\n",
       "      <td>SM Megamall, Ortigas, Mandaluyong City, Mandal...</td>\n",
       "      <td>121.057508</td>\n",
       "      <td>14.584450</td>\n",
       "      <td>Japanese, Korean</td>\n",
       "      <td>...</td>\n",
       "      <td>Yes</td>\n",
       "      <td>No</td>\n",
       "      <td>No</td>\n",
       "      <td>No</td>\n",
       "      <td>4</td>\n",
       "      <td>4.8</td>\n",
       "      <td>Dark Green</td>\n",
       "      <td>Excellent</td>\n",
       "      <td>229</td>\n",
       "      <td>Phillipines</td>\n",
       "    </tr>\n",
       "  </tbody>\n",
       "</table>\n",
       "<p>5 rows × 22 columns</p>\n",
       "</div>"
      ],
      "text/plain": [
       "   Restaurant ID         Restaurant Name  Country Code              City  \\\n",
       "0        6317637        Le Petit Souffle           162       Makati City   \n",
       "1        6304287        Izakaya Kikufuji           162       Makati City   \n",
       "2        6300002  Heat - Edsa Shangri-La           162  Mandaluyong City   \n",
       "3        6318506                    Ooma           162  Mandaluyong City   \n",
       "4        6314302             Sambo Kojin           162  Mandaluyong City   \n",
       "\n",
       "                                             Address  \\\n",
       "0  Third Floor, Century City Mall, Kalayaan Avenu...   \n",
       "1  Little Tokyo, 2277 Chino Roces Avenue, Legaspi...   \n",
       "2  Edsa Shangri-La, 1 Garden Way, Ortigas, Mandal...   \n",
       "3  Third Floor, Mega Fashion Hall, SM Megamall, O...   \n",
       "4  Third Floor, Mega Atrium, SM Megamall, Ortigas...   \n",
       "\n",
       "                                     Locality  \\\n",
       "0   Century City Mall, Poblacion, Makati City   \n",
       "1  Little Tokyo, Legaspi Village, Makati City   \n",
       "2  Edsa Shangri-La, Ortigas, Mandaluyong City   \n",
       "3      SM Megamall, Ortigas, Mandaluyong City   \n",
       "4      SM Megamall, Ortigas, Mandaluyong City   \n",
       "\n",
       "                                    Locality Verbose   Longitude   Latitude  \\\n",
       "0  Century City Mall, Poblacion, Makati City, Mak...  121.027535  14.565443   \n",
       "1  Little Tokyo, Legaspi Village, Makati City, Ma...  121.014101  14.553708   \n",
       "2  Edsa Shangri-La, Ortigas, Mandaluyong City, Ma...  121.056831  14.581404   \n",
       "3  SM Megamall, Ortigas, Mandaluyong City, Mandal...  121.056475  14.585318   \n",
       "4  SM Megamall, Ortigas, Mandaluyong City, Mandal...  121.057508  14.584450   \n",
       "\n",
       "                           Cuisines  ...  Has Table booking  \\\n",
       "0        French, Japanese, Desserts  ...                Yes   \n",
       "1                          Japanese  ...                Yes   \n",
       "2  Seafood, Asian, Filipino, Indian  ...                Yes   \n",
       "3                   Japanese, Sushi  ...                 No   \n",
       "4                  Japanese, Korean  ...                Yes   \n",
       "\n",
       "  Has Online delivery Is delivering now Switch to order menu Price range  \\\n",
       "0                  No                No                   No           3   \n",
       "1                  No                No                   No           3   \n",
       "2                  No                No                   No           4   \n",
       "3                  No                No                   No           4   \n",
       "4                  No                No                   No           4   \n",
       "\n",
       "  Aggregate rating  Rating color  Rating text Votes      Country  \n",
       "0              4.8    Dark Green    Excellent   314  Phillipines  \n",
       "1              4.5    Dark Green    Excellent   591  Phillipines  \n",
       "2              4.4         Green    Very Good   270  Phillipines  \n",
       "3              4.9    Dark Green    Excellent   365  Phillipines  \n",
       "4              4.8    Dark Green    Excellent   229  Phillipines  \n",
       "\n",
       "[5 rows x 22 columns]"
      ]
     },
     "execution_count": 12,
     "metadata": {},
     "output_type": "execute_result"
    }
   ],
   "source": [
    "final_df.head()"
   ]
  },
  {
   "cell_type": "code",
   "execution_count": null,
   "id": "f145fb13",
   "metadata": {},
   "outputs": [
    {
     "data": {
      "text/plain": [
       "Index(['Restaurant ID', 'Restaurant Name', 'Country Code', 'City', 'Address',\n",
       "       'Locality', 'Locality Verbose', 'Longitude', 'Latitude', 'Cuisines',\n",
       "       'Average Cost for two', 'Currency', 'Has Table booking',\n",
       "       'Has Online delivery', 'Is delivering now', 'Switch to order menu',\n",
       "       'Price range', 'Aggregate rating', 'Rating color', 'Rating text',\n",
       "       'Votes', 'Country'],\n",
       "      dtype='object')"
      ]
     },
     "execution_count": 13,
     "metadata": {},
     "output_type": "execute_result"
    }
   ],
   "source": [
    "final_df.columns"
   ]
  },
  {
   "cell_type": "code",
   "execution_count": null,
   "id": "09afdcb2",
   "metadata": {},
   "outputs": [],
   "source": [
    "country_name=final_df.Country.value_counts().index"
   ]
  },
  {
   "cell_type": "code",
   "execution_count": null,
   "id": "d0fa9590",
   "metadata": {},
   "outputs": [],
   "source": [
    "country_value=final_df.Country.value_counts().values"
   ]
  },
  {
   "cell_type": "code",
   "execution_count": null,
   "id": "a013f3a3",
   "metadata": {},
   "outputs": [
    {
     "data": {
      "image/png": "[encoded data removed]",
      "text/plain": [
       "<Figure size 1200x600 with 1 Axes>"
      ]
     },
     "metadata": {},
     "output_type": "display_data"
    }
   ],
   "source": [
    "plt.pie(country_value, labels=country_name, autopct='%0.2f%%')\n",
    "plt.ylabel('Country Name')\n",
    "plt.title('Country Distribution')\n",
    "plt.show()\n",
    "\n"
   ]
  },
  {
   "cell_type": "markdown",
   "id": "3c11c590",
   "metadata": {},
   "source": [
    "for top three countries"
   ]
  },
  {
   "cell_type": "code",
   "execution_count": null,
   "id": "4c10ede7",
   "metadata": {},
   "outputs": [
    {
     "data": {
      "text/plain": [
       "([<matplotlib.patches.Wedge at 0x2b9b759fe30>,\n",
       "  <matplotlib.patches.Wedge at 0x2b9b759dfa0>,\n",
       "  <matplotlib.patches.Wedge at 0x2b9b75c9370>],\n",
       " [Text(-1.0829742700952103, 0.19278674827836725, 'India'),\n",
       "  Text(1.077281715838356, -0.22240527134123297, 'United States'),\n",
       "  Text(1.0995865153823035, -0.03015783794312073, 'United Kingdom')],\n",
       " [Text(-0.590713238233751, 0.10515640815183668, '94.39%'),\n",
       "  Text(0.5876082086391032, -0.12131196618612707, '4.73%'),\n",
       "  Text(0.5997744629358018, -0.01644972978715676, '0.87%')])"
      ]
     },
     "execution_count": 17,
     "metadata": {},
     "output_type": "execute_result"
    },
    {
     "data": {
      "image/png": "[encoded data removed]",
      "text/plain": [
       "<Figure size 1200x600 with 1 Axes>"
      ]
     },
     "metadata": {},
     "output_type": "display_data"
    }
   ],
   "source": [
    "plt.pie(country_value[:3], labels=country_name [:3],autopct='%1.2f%%')"
   ]
  },
  {
   "cell_type": "markdown",
   "id": "a149808f",
   "metadata": {},
   "source": [
    "Observation : Zomato highest transaction is from India after that USA and then United Kingdom"
   ]
  },
  {
   "cell_type": "code",
   "execution_count": null,
   "id": "7d7d7760",
   "metadata": {},
   "outputs": [],
   "source": [
    "ratings=final_df.groupby(['Aggregate rating','Rating color','Rating text']).size().reset_index().rename(columns={0:'Rating Count'})"
   ]
  },
  {
   "cell_type": "code",
   "execution_count": null,
   "id": "af2c1baa",
   "metadata": {},
   "outputs": [
    {
     "data": {
      "application/vnd.microsoft.datawrangler.viewer.v0+json": {
       "columns": [
        {
         "name": "index",
         "rawType": "int64",
         "type": "integer"
        },
        {
         "name": "Aggregate rating",
         "rawType": "float64",
         "type": "float"
        },
        {
         "name": "Rating color",
         "rawType": "object",
         "type": "string"
        },
        {
         "name": "Rating text",
         "rawType": "object",
         "type": "string"
        },
        {
         "name": "Rating Count",
         "rawType": "int64",
         "type": "integer"
        }
       ],
       "ref": "641121d1-b2a8-49a4-a23b-0822b47288bf",
       "rows": [
        [
         "0",
         "0.0",
         "White",
         "Not rated",
         "2148"
        ],
        [
         "1",
         "1.8",
         "Red",
         "Poor",
         "1"
        ],
        [
         "2",
         "1.9",
         "Red",
         "Poor",
         "2"
        ],
        [
         "3",
         "2.0",
         "Red",
         "Poor",
         "7"
        ],
        [
         "4",
         "2.1",
         "Red",
         "Poor",
         "15"
        ],
        [
         "5",
         "2.2",
         "Red",
         "Poor",
         "27"
        ],
        [
         "6",
         "2.3",
         "Red",
         "Poor",
         "47"
        ],
        [
         "7",
         "2.4",
         "Red",
         "Poor",
         "87"
        ],
        [
         "8",
         "2.5",
         "Orange",
         "Average",
         "110"
        ],
        [
         "9",
         "2.6",
         "Orange",
         "Average",
         "191"
        ],
        [
         "10",
         "2.7",
         "Orange",
         "Average",
         "250"
        ],
        [
         "11",
         "2.8",
         "Orange",
         "Average",
         "315"
        ],
        [
         "12",
         "2.9",
         "Orange",
         "Average",
         "381"
        ],
        [
         "13",
         "3.0",
         "Orange",
         "Average",
         "468"
        ],
        [
         "14",
         "3.1",
         "Orange",
         "Average",
         "519"
        ],
        [
         "15",
         "3.2",
         "Orange",
         "Average",
         "522"
        ],
        [
         "16",
         "3.3",
         "Orange",
         "Average",
         "483"
        ],
        [
         "17",
         "3.4",
         "Orange",
         "Average",
         "498"
        ],
        [
         "18",
         "3.5",
         "Yellow",
         "Good",
         "480"
        ],
        [
         "19",
         "3.6",
         "Yellow",
         "Good",
         "458"
        ],
        [
         "20",
         "3.7",
         "Yellow",
         "Good",
         "427"
        ],
        [
         "21",
         "3.8",
         "Yellow",
         "Good",
         "400"
        ],
        [
         "22",
         "3.9",
         "Yellow",
         "Good",
         "335"
        ],
        [
         "23",
         "4.0",
         "Green",
         "Very Good",
         "266"
        ],
        [
         "24",
         "4.1",
         "Green",
         "Very Good",
         "274"
        ],
        [
         "25",
         "4.2",
         "Green",
         "Very Good",
         "221"
        ],
        [
         "26",
         "4.3",
         "Green",
         "Very Good",
         "174"
        ],
        [
         "27",
         "4.4",
         "Green",
         "Very Good",
         "144"
        ],
        [
         "28",
         "4.5",
         "Dark Green",
         "Excellent",
         "95"
        ],
        [
         "29",
         "4.6",
         "Dark Green",
         "Excellent",
         "78"
        ],
        [
         "30",
         "4.7",
         "Dark Green",
         "Excellent",
         "42"
        ],
        [
         "31",
         "4.8",
         "Dark Green",
         "Excellent",
         "25"
        ],
        [
         "32",
         "4.9",
         "Dark Green",
         "Excellent",
         "61"
        ]
       ],
       "shape": {
        "columns": 4,
        "rows": 33
       }
      },
      "text/html": [
       "<div>\n",
       "<style scoped>\n",
       "    .dataframe tbody tr th:only-of-type {\n",
       "        vertical-align: middle;\n",
       "    }\n",
       "\n",
       "    .dataframe tbody tr th {\n",
       "        vertical-align: top;\n",
       "    }\n",
       "\n",
       "    .dataframe thead th {\n",
       "        text-align: right;\n",
       "    }\n",
       "</style>\n",
       "<table border=\"1\" class=\"dataframe\">\n",
       "  <thead>\n",
       "    <tr style=\"text-align: right;\">\n",
       "      <th></th>\n",
       "      <th>Aggregate rating</th>\n",
       "      <th>Rating color</th>\n",
       "      <th>Rating text</th>\n",
       "      <th>Rating Count</th>\n",
       "    </tr>\n",
       "  </thead>\n",
       "  <tbody>\n",
       "    <tr>\n",
       "      <th>0</th>\n",
       "      <td>0.0</td>\n",
       "      <td>White</td>\n",
       "      <td>Not rated</td>\n",
       "      <td>2148</td>\n",
       "    </tr>\n",
       "    <tr>\n",
       "      <th>1</th>\n",
       "      <td>1.8</td>\n",
       "      <td>Red</td>\n",
       "      <td>Poor</td>\n",
       "      <td>1</td>\n",
       "    </tr>\n",
       "    <tr>\n",
       "      <th>2</th>\n",
       "      <td>1.9</td>\n",
       "      <td>Red</td>\n",
       "      <td>Poor</td>\n",
       "      <td>2</td>\n",
       "    </tr>\n",
       "    <tr>\n",
       "      <th>3</th>\n",
       "      <td>2.0</td>\n",
       "      <td>Red</td>\n",
       "      <td>Poor</td>\n",
       "      <td>7</td>\n",
       "    </tr>\n",
       "    <tr>\n",
       "      <th>4</th>\n",
       "      <td>2.1</td>\n",
       "      <td>Red</td>\n",
       "      <td>Poor</td>\n",
       "      <td>15</td>\n",
       "    </tr>\n",
       "    <tr>\n",
       "      <th>5</th>\n",
       "      <td>2.2</td>\n",
       "      <td>Red</td>\n",
       "      <td>Poor</td>\n",
       "      <td>27</td>\n",
       "    </tr>\n",
       "    <tr>\n",
       "      <th>6</th>\n",
       "      <td>2.3</td>\n",
       "      <td>Red</td>\n",
       "      <td>Poor</td>\n",
       "      <td>47</td>\n",
       "    </tr>\n",
       "    <tr>\n",
       "      <th>7</th>\n",
       "      <td>2.4</td>\n",
       "      <td>Red</td>\n",
       "      <td>Poor</td>\n",
       "      <td>87</td>\n",
       "    </tr>\n",
       "    <tr>\n",
       "      <th>8</th>\n",
       "      <td>2.5</td>\n",
       "      <td>Orange</td>\n",
       "      <td>Average</td>\n",
       "      <td>110</td>\n",
       "    </tr>\n",
       "    <tr>\n",
       "      <th>9</th>\n",
       "      <td>2.6</td>\n",
       "      <td>Orange</td>\n",
       "      <td>Average</td>\n",
       "      <td>191</td>\n",
       "    </tr>\n",
       "    <tr>\n",
       "      <th>10</th>\n",
       "      <td>2.7</td>\n",
       "      <td>Orange</td>\n",
       "      <td>Average</td>\n",
       "      <td>250</td>\n",
       "    </tr>\n",
       "    <tr>\n",
       "      <th>11</th>\n",
       "      <td>2.8</td>\n",
       "      <td>Orange</td>\n",
       "      <td>Average</td>\n",
       "      <td>315</td>\n",
       "    </tr>\n",
       "    <tr>\n",
       "      <th>12</th>\n",
       "      <td>2.9</td>\n",
       "      <td>Orange</td>\n",
       "      <td>Average</td>\n",
       "      <td>381</td>\n",
       "    </tr>\n",
       "    <tr>\n",
       "      <th>13</th>\n",
       "      <td>3.0</td>\n",
       "      <td>Orange</td>\n",
       "      <td>Average</td>\n",
       "      <td>468</td>\n",
       "    </tr>\n",
       "    <tr>\n",
       "      <th>14</th>\n",
       "      <td>3.1</td>\n",
       "      <td>Orange</td>\n",
       "      <td>Average</td>\n",
       "      <td>519</td>\n",
       "    </tr>\n",
       "    <tr>\n",
       "      <th>15</th>\n",
       "      <td>3.2</td>\n",
       "      <td>Orange</td>\n",
       "      <td>Average</td>\n",
       "      <td>522</td>\n",
       "    </tr>\n",
       "    <tr>\n",
       "      <th>16</th>\n",
       "      <td>3.3</td>\n",
       "      <td>Orange</td>\n",
       "      <td>Average</td>\n",
       "      <td>483</td>\n",
       "    </tr>\n",
       "    <tr>\n",
       "      <th>17</th>\n",
       "      <td>3.4</td>\n",
       "      <td>Orange</td>\n",
       "      <td>Average</td>\n",
       "      <td>498</td>\n",
       "    </tr>\n",
       "    <tr>\n",
       "      <th>18</th>\n",
       "      <td>3.5</td>\n",
       "      <td>Yellow</td>\n",
       "      <td>Good</td>\n",
       "      <td>480</td>\n",
       "    </tr>\n",
       "    <tr>\n",
       "      <th>19</th>\n",
       "      <td>3.6</td>\n",
       "      <td>Yellow</td>\n",
       "      <td>Good</td>\n",
       "      <td>458</td>\n",
       "    </tr>\n",
       "    <tr>\n",
       "      <th>20</th>\n",
       "      <td>3.7</td>\n",
       "      <td>Yellow</td>\n",
       "      <td>Good</td>\n",
       "      <td>427</td>\n",
       "    </tr>\n",
       "    <tr>\n",
       "      <th>21</th>\n",
       "      <td>3.8</td>\n",
       "      <td>Yellow</td>\n",
       "      <td>Good</td>\n",
       "      <td>400</td>\n",
       "    </tr>\n",
       "    <tr>\n",
       "      <th>22</th>\n",
       "      <td>3.9</td>\n",
       "      <td>Yellow</td>\n",
       "      <td>Good</td>\n",
       "      <td>335</td>\n",
       "    </tr>\n",
       "    <tr>\n",
       "      <th>23</th>\n",
       "      <td>4.0</td>\n",
       "      <td>Green</td>\n",
       "      <td>Very Good</td>\n",
       "      <td>266</td>\n",
       "    </tr>\n",
       "    <tr>\n",
       "      <th>24</th>\n",
       "      <td>4.1</td>\n",
       "      <td>Green</td>\n",
       "      <td>Very Good</td>\n",
       "      <td>274</td>\n",
       "    </tr>\n",
       "    <tr>\n",
       "      <th>25</th>\n",
       "      <td>4.2</td>\n",
       "      <td>Green</td>\n",
       "      <td>Very Good</td>\n",
       "      <td>221</td>\n",
       "    </tr>\n",
       "    <tr>\n",
       "      <th>26</th>\n",
       "      <td>4.3</td>\n",
       "      <td>Green</td>\n",
       "      <td>Very Good</td>\n",
       "      <td>174</td>\n",
       "    </tr>\n",
       "    <tr>\n",
       "      <th>27</th>\n",
       "      <td>4.4</td>\n",
       "      <td>Green</td>\n",
       "      <td>Very Good</td>\n",
       "      <td>144</td>\n",
       "    </tr>\n",
       "    <tr>\n",
       "      <th>28</th>\n",
       "      <td>4.5</td>\n",
       "      <td>Dark Green</td>\n",
       "      <td>Excellent</td>\n",
       "      <td>95</td>\n",
       "    </tr>\n",
       "    <tr>\n",
       "      <th>29</th>\n",
       "      <td>4.6</td>\n",
       "      <td>Dark Green</td>\n",
       "      <td>Excellent</td>\n",
       "      <td>78</td>\n",
       "    </tr>\n",
       "    <tr>\n",
       "      <th>30</th>\n",
       "      <td>4.7</td>\n",
       "      <td>Dark Green</td>\n",
       "      <td>Excellent</td>\n",
       "      <td>42</td>\n",
       "    </tr>\n",
       "    <tr>\n",
       "      <th>31</th>\n",
       "      <td>4.8</td>\n",
       "      <td>Dark Green</td>\n",
       "      <td>Excellent</td>\n",
       "      <td>25</td>\n",
       "    </tr>\n",
       "    <tr>\n",
       "      <th>32</th>\n",
       "      <td>4.9</td>\n",
       "      <td>Dark Green</td>\n",
       "      <td>Excellent</td>\n",
       "      <td>61</td>\n",
       "    </tr>\n",
       "  </tbody>\n",
       "</table>\n",
       "</div>"
      ],
      "text/plain": [
       "    Aggregate rating Rating color Rating text  Rating Count\n",
       "0                0.0        White   Not rated          2148\n",
       "1                1.8          Red        Poor             1\n",
       "2                1.9          Red        Poor             2\n",
       "3                2.0          Red        Poor             7\n",
       "4                2.1          Red        Poor            15\n",
       "5                2.2          Red        Poor            27\n",
       "6                2.3          Red        Poor            47\n",
       "7                2.4          Red        Poor            87\n",
       "8                2.5       Orange     Average           110\n",
       "9                2.6       Orange     Average           191\n",
       "10               2.7       Orange     Average           250\n",
       "11               2.8       Orange     Average           315\n",
       "12               2.9       Orange     Average           381\n",
       "13               3.0       Orange     Average           468\n",
       "14               3.1       Orange     Average           519\n",
       "15               3.2       Orange     Average           522\n",
       "16               3.3       Orange     Average           483\n",
       "17               3.4       Orange     Average           498\n",
       "18               3.5       Yellow        Good           480\n",
       "19               3.6       Yellow        Good           458\n",
       "20               3.7       Yellow        Good           427\n",
       "21               3.8       Yellow        Good           400\n",
       "22               3.9       Yellow        Good           335\n",
       "23               4.0        Green   Very Good           266\n",
       "24               4.1        Green   Very Good           274\n",
       "25               4.2        Green   Very Good           221\n",
       "26               4.3        Green   Very Good           174\n",
       "27               4.4        Green   Very Good           144\n",
       "28               4.5   Dark Green   Excellent            95\n",
       "29               4.6   Dark Green   Excellent            78\n",
       "30               4.7   Dark Green   Excellent            42\n",
       "31               4.8   Dark Green   Excellent            25\n",
       "32               4.9   Dark Green   Excellent            61"
      ]
     },
     "execution_count": 19,
     "metadata": {},
     "output_type": "execute_result"
    }
   ],
   "source": [
    "ratings "
   ]
  },
  {
   "cell_type": "markdown",
   "id": "e0ce1dee",
   "metadata": {},
   "source": [
    "## Observation\n",
    "1. When rating is from 4.5 to 4.9 it means Excellent \n",
    "2.  When rating is between 4 to 4.4 it means Very Good\n",
    "3.  When rating is between 3.5 - 3.9 it means Goood\n",
    "4.  When rating is between 2.5 - 3.4 it means  Average \n",
    "5.  When rating is between 1 to 2.4 it means Poor\n",
    "6. When rating is zero i.e, it haS BEEN NOT RATED  \n"
   ]
  },
  {
   "cell_type": "code",
   "execution_count": null,
   "id": "1b25d98c",
   "metadata": {},
   "outputs": [
    {
     "data": {
      "application/vnd.microsoft.datawrangler.viewer.v0+json": {
       "columns": [
        {
         "name": "index",
         "rawType": "int64",
         "type": "integer"
        },
        {
         "name": "Aggregate rating",
         "rawType": "float64",
         "type": "float"
        },
        {
         "name": "Rating color",
         "rawType": "object",
         "type": "string"
        },
        {
         "name": "Rating text",
         "rawType": "object",
         "type": "string"
        },
        {
         "name": "Rating Count",
         "rawType": "int64",
         "type": "integer"
        }
       ],
       "ref": "5ff6ef90-e276-4b44-86a2-917e2a57ac8d",
       "rows": [
        [
         "0",
         "0.0",
         "White",
         "Not rated",
         "2148"
        ],
        [
         "1",
         "1.8",
         "Red",
         "Poor",
         "1"
        ],
        [
         "2",
         "1.9",
         "Red",
         "Poor",
         "2"
        ],
        [
         "3",
         "2.0",
         "Red",
         "Poor",
         "7"
        ],
        [
         "4",
         "2.1",
         "Red",
         "Poor",
         "15"
        ]
       ],
       "shape": {
        "columns": 4,
        "rows": 5
       }
      },
      "text/html": [
       "<div>\n",
       "<style scoped>\n",
       "    .dataframe tbody tr th:only-of-type {\n",
       "        vertical-align: middle;\n",
       "    }\n",
       "\n",
       "    .dataframe tbody tr th {\n",
       "        vertical-align: top;\n",
       "    }\n",
       "\n",
       "    .dataframe thead th {\n",
       "        text-align: right;\n",
       "    }\n",
       "</style>\n",
       "<table border=\"1\" class=\"dataframe\">\n",
       "  <thead>\n",
       "    <tr style=\"text-align: right;\">\n",
       "      <th></th>\n",
       "      <th>Aggregate rating</th>\n",
       "      <th>Rating color</th>\n",
       "      <th>Rating text</th>\n",
       "      <th>Rating Count</th>\n",
       "    </tr>\n",
       "  </thead>\n",
       "  <tbody>\n",
       "    <tr>\n",
       "      <th>0</th>\n",
       "      <td>0.0</td>\n",
       "      <td>White</td>\n",
       "      <td>Not rated</td>\n",
       "      <td>2148</td>\n",
       "    </tr>\n",
       "    <tr>\n",
       "      <th>1</th>\n",
       "      <td>1.8</td>\n",
       "      <td>Red</td>\n",
       "      <td>Poor</td>\n",
       "      <td>1</td>\n",
       "    </tr>\n",
       "    <tr>\n",
       "      <th>2</th>\n",
       "      <td>1.9</td>\n",
       "      <td>Red</td>\n",
       "      <td>Poor</td>\n",
       "      <td>2</td>\n",
       "    </tr>\n",
       "    <tr>\n",
       "      <th>3</th>\n",
       "      <td>2.0</td>\n",
       "      <td>Red</td>\n",
       "      <td>Poor</td>\n",
       "      <td>7</td>\n",
       "    </tr>\n",
       "    <tr>\n",
       "      <th>4</th>\n",
       "      <td>2.1</td>\n",
       "      <td>Red</td>\n",
       "      <td>Poor</td>\n",
       "      <td>15</td>\n",
       "    </tr>\n",
       "  </tbody>\n",
       "</table>\n",
       "</div>"
      ],
      "text/plain": [
       "   Aggregate rating Rating color Rating text  Rating Count\n",
       "0               0.0        White   Not rated          2148\n",
       "1               1.8          Red        Poor             1\n",
       "2               1.9          Red        Poor             2\n",
       "3               2.0          Red        Poor             7\n",
       "4               2.1          Red        Poor            15"
      ]
     },
     "execution_count": 20,
     "metadata": {},
     "output_type": "execute_result"
    }
   ],
   "source": [
    "ratings.head()"
   ]
  },
  {
   "cell_type": "code",
   "execution_count": null,
   "id": "27a5a656",
   "metadata": {},
   "outputs": [
    {
     "data": {
      "text/plain": [
       "<Axes: xlabel='Aggregate rating', ylabel='Rating Count'>"
      ]
     },
     "execution_count": 21,
     "metadata": {},
     "output_type": "execute_result"
    },
    {
     "data": {
      "image/png": "[encoded data removed]",
      "text/plain": [
       "<Figure size 1200x600 with 1 Axes>"
      ]
     },
     "metadata": {},
     "output_type": "display_data"
    }
   ],
   "source": [
    "plt.rcParams['figure.figsize']=[12,6]\n",
    "sns.barplot(x='Aggregate rating', y='Rating Count', data=ratings)"
   ]
  },
  {
   "cell_type": "code",
   "execution_count": null,
   "id": "a6e819c6",
   "metadata": {},
   "outputs": [
    {
     "data": {
      "text/plain": [
       "<Axes: xlabel='Aggregate rating', ylabel='Rating Count'>"
      ]
     },
     "execution_count": 22,
     "metadata": {},
     "output_type": "execute_result"
    },
    {
     "data": {
      "image/png": "[encoded data removed]",
      "text/plain": [
       "<Figure size 1200x600 with 1 Axes>"
      ]
     },
     "metadata": {},
     "output_type": "display_data"
    }
   ],
   "source": [
    "plt.rcParams['figure.figsize']=[12,6]\n",
    "sns.barplot(x='Aggregate rating', y='Rating Count',hue='Rating color', data=ratings,palette=['pink','Red','Orange','Yellow','Green','Darkgreen'])"
   ]
  },
  {
   "cell_type": "markdown",
   "id": "df7fb8f2",
   "metadata": {},
   "source": [
    "Observation :\n",
    "1. maximum rating between 2.4 to 3.9\n",
    "2. Not rated count is very high"
   ]
  },
  {
   "cell_type": "code",
   "execution_count": null,
   "id": "9701178a",
   "metadata": {},
   "outputs": [
    {
     "data": {
      "text/plain": [
       "<Axes: xlabel='Rating color', ylabel='count'>"
      ]
     },
     "execution_count": 23,
     "metadata": {},
     "output_type": "execute_result"
    },
    {
     "data": {
      "image/png": "[encoded data removed]",
      "text/plain": [
       "<Figure size 1200x600 with 1 Axes>"
      ]
     },
     "metadata": {},
     "output_type": "display_data"
    }
   ],
   "source": [
    "sns.countplot(x='Rating color',hue='Rating color',data=ratings,palette=['pink','Red','Orange','Yellow','Green','Darkgreen'])"
   ]
  },
  {
   "cell_type": "code",
   "execution_count": null,
   "id": "af81008e",
   "metadata": {},
   "outputs": [
    {
     "data": {
      "application/vnd.microsoft.datawrangler.viewer.v0+json": {
       "columns": [
        {
         "name": "index",
         "rawType": "int64",
         "type": "integer"
        },
        {
         "name": "Aggregate rating",
         "rawType": "float64",
         "type": "float"
        },
        {
         "name": "Country",
         "rawType": "object",
         "type": "string"
        },
        {
         "name": "con_rat",
         "rawType": "int64",
         "type": "integer"
        }
       ],
       "ref": "f7c6f00f-98c9-432a-a916-0ab8532681c7",
       "rows": [
        [
         "0",
         "0.0",
         "Brazil",
         "5"
        ],
        [
         "1",
         "0.0",
         "India",
         "2139"
        ],
        [
         "2",
         "0.0",
         "United Kingdom",
         "1"
        ],
        [
         "3",
         "0.0",
         "United States",
         "3"
        ],
        [
         "4",
         "1.8",
         "India",
         "1"
        ],
        [
         "5",
         "1.9",
         "India",
         "2"
        ],
        [
         "6",
         "2.0",
         "India",
         "7"
        ],
        [
         "7",
         "2.1",
         "India",
         "15"
        ],
        [
         "8",
         "2.2",
         "India",
         "26"
        ],
        [
         "9",
         "2.2",
         "United States",
         "1"
        ],
        [
         "10",
         "2.3",
         "India",
         "46"
        ],
        [
         "11",
         "2.3",
         "New Zealand",
         "1"
        ],
        [
         "12",
         "2.4",
         "Australia",
         "1"
        ],
        [
         "13",
         "2.4",
         "India",
         "83"
        ],
        [
         "14",
         "2.4",
         "Sri Lanka",
         "1"
        ],
        [
         "15",
         "2.4",
         "UAE",
         "1"
        ],
        [
         "16",
         "2.4",
         "United States",
         "1"
        ],
        [
         "17",
         "2.5",
         "India",
         "109"
        ],
        [
         "18",
         "2.5",
         "Sri Lanka",
         "1"
        ],
        [
         "19",
         "2.6",
         "Australia",
         "1"
        ],
        [
         "20",
         "2.6",
         "India",
         "190"
        ],
        [
         "21",
         "2.7",
         "India",
         "250"
        ],
        [
         "22",
         "2.8",
         "India",
         "314"
        ],
        [
         "23",
         "2.8",
         "United Kingdom",
         "1"
        ],
        [
         "24",
         "2.9",
         "Australia",
         "1"
        ],
        [
         "25",
         "2.9",
         "India",
         "380"
        ],
        [
         "26",
         "3.0",
         "Brazil",
         "1"
        ],
        [
         "27",
         "3.0",
         "Canada",
         "1"
        ],
        [
         "28",
         "3.0",
         "India",
         "465"
        ],
        [
         "29",
         "3.0",
         "Singapore",
         "1"
        ],
        [
         "30",
         "3.1",
         "Brazil",
         "3"
        ],
        [
         "31",
         "3.1",
         "India",
         "511"
        ],
        [
         "32",
         "3.1",
         "Singapore",
         "2"
        ],
        [
         "33",
         "3.1",
         "United Kingdom",
         "1"
        ],
        [
         "34",
         "3.1",
         "United States",
         "2"
        ],
        [
         "35",
         "3.2",
         "Australia",
         "1"
        ],
        [
         "36",
         "3.2",
         "Brazil",
         "2"
        ],
        [
         "37",
         "3.2",
         "India",
         "510"
        ],
        [
         "38",
         "3.2",
         "Singapore",
         "5"
        ],
        [
         "39",
         "3.2",
         "UAE",
         "1"
        ],
        [
         "40",
         "3.2",
         "United States",
         "3"
        ],
        [
         "41",
         "3.3",
         "Brazil",
         "1"
        ],
        [
         "42",
         "3.3",
         "Canada",
         "1"
        ],
        [
         "43",
         "3.3",
         "India",
         "472"
        ],
        [
         "44",
         "3.3",
         "United Kingdom",
         "2"
        ],
        [
         "45",
         "3.3",
         "United States",
         "7"
        ],
        [
         "46",
         "3.4",
         "Australia",
         "1"
        ],
        [
         "47",
         "3.4",
         "Brazil",
         "1"
        ],
        [
         "48",
         "3.4",
         "India",
         "477"
        ],
        [
         "49",
         "3.4",
         "Indonesia",
         "1"
        ]
       ],
       "shape": {
        "columns": 3,
        "rows": 222
       }
      },
      "text/html": [
       "<div>\n",
       "<style scoped>\n",
       "    .dataframe tbody tr th:only-of-type {\n",
       "        vertical-align: middle;\n",
       "    }\n",
       "\n",
       "    .dataframe tbody tr th {\n",
       "        vertical-align: top;\n",
       "    }\n",
       "\n",
       "    .dataframe thead th {\n",
       "        text-align: right;\n",
       "    }\n",
       "</style>\n",
       "<table border=\"1\" class=\"dataframe\">\n",
       "  <thead>\n",
       "    <tr style=\"text-align: right;\">\n",
       "      <th></th>\n",
       "      <th>Aggregate rating</th>\n",
       "      <th>Country</th>\n",
       "      <th>con_rat</th>\n",
       "    </tr>\n",
       "  </thead>\n",
       "  <tbody>\n",
       "    <tr>\n",
       "      <th>0</th>\n",
       "      <td>0.0</td>\n",
       "      <td>Brazil</td>\n",
       "      <td>5</td>\n",
       "    </tr>\n",
       "    <tr>\n",
       "      <th>1</th>\n",
       "      <td>0.0</td>\n",
       "      <td>India</td>\n",
       "      <td>2139</td>\n",
       "    </tr>\n",
       "    <tr>\n",
       "      <th>2</th>\n",
       "      <td>0.0</td>\n",
       "      <td>United Kingdom</td>\n",
       "      <td>1</td>\n",
       "    </tr>\n",
       "    <tr>\n",
       "      <th>3</th>\n",
       "      <td>0.0</td>\n",
       "      <td>United States</td>\n",
       "      <td>3</td>\n",
       "    </tr>\n",
       "    <tr>\n",
       "      <th>4</th>\n",
       "      <td>1.8</td>\n",
       "      <td>India</td>\n",
       "      <td>1</td>\n",
       "    </tr>\n",
       "    <tr>\n",
       "      <th>...</th>\n",
       "      <td>...</td>\n",
       "      <td>...</td>\n",
       "      <td>...</td>\n",
       "    </tr>\n",
       "    <tr>\n",
       "      <th>217</th>\n",
       "      <td>4.9</td>\n",
       "      <td>Sri Lanka</td>\n",
       "      <td>1</td>\n",
       "    </tr>\n",
       "    <tr>\n",
       "      <th>218</th>\n",
       "      <td>4.9</td>\n",
       "      <td>Turkey</td>\n",
       "      <td>3</td>\n",
       "    </tr>\n",
       "    <tr>\n",
       "      <th>219</th>\n",
       "      <td>4.9</td>\n",
       "      <td>UAE</td>\n",
       "      <td>4</td>\n",
       "    </tr>\n",
       "    <tr>\n",
       "      <th>220</th>\n",
       "      <td>4.9</td>\n",
       "      <td>United Kingdom</td>\n",
       "      <td>4</td>\n",
       "    </tr>\n",
       "    <tr>\n",
       "      <th>221</th>\n",
       "      <td>4.9</td>\n",
       "      <td>United States</td>\n",
       "      <td>14</td>\n",
       "    </tr>\n",
       "  </tbody>\n",
       "</table>\n",
       "<p>222 rows × 3 columns</p>\n",
       "</div>"
      ],
      "text/plain": [
       "     Aggregate rating         Country  con_rat\n",
       "0                 0.0          Brazil        5\n",
       "1                 0.0           India     2139\n",
       "2                 0.0  United Kingdom        1\n",
       "3                 0.0   United States        3\n",
       "4                 1.8           India        1\n",
       "..                ...             ...      ...\n",
       "217               4.9       Sri Lanka        1\n",
       "218               4.9          Turkey        3\n",
       "219               4.9             UAE        4\n",
       "220               4.9  United Kingdom        4\n",
       "221               4.9   United States       14\n",
       "\n",
       "[222 rows x 3 columns]"
      ]
     },
     "execution_count": 24,
     "metadata": {},
     "output_type": "execute_result"
    }
   ],
   "source": [
    "country_rating = final_df.groupby(['Aggregate rating', 'Country']).size().reset_index().rename(columns={0:'con_rat'})\n",
    "country_rating"
   ]
  },
  {
   "cell_type": "markdown",
   "id": "12d7928b",
   "metadata": {},
   "source": [
    "Observation: Maximum number of 0 ratings are from Indian customer"
   ]
  },
  {
   "cell_type": "code",
   "execution_count": null,
   "id": "034f675e",
   "metadata": {},
   "outputs": [
    {
     "data": {
      "text/plain": [
       "<Axes: xlabel='Aggregate rating', ylabel='con_rat'>"
      ]
     },
     "execution_count": 25,
     "metadata": {},
     "output_type": "execute_result"
    },
    {
     "data": {
      "image/png": "[encoded data removed]",
      "text/plain": [
       "<Figure size 1200x600 with 1 Axes>"
      ]
     },
     "metadata": {},
     "output_type": "display_data"
    }
   ],
   "source": [
    "plt.rcParams['figure.figsize']=[12,6]\n",
    "sns.barplot(x='Aggregate rating', y='con_rat', data=country_rating)"
   ]
  },
  {
   "cell_type": "code",
   "execution_count": null,
   "id": "23e8ffe2",
   "metadata": {},
   "outputs": [
    {
     "data": {
      "application/vnd.microsoft.datawrangler.viewer.v0+json": {
       "columns": [
        {
         "name": "index",
         "rawType": "int64",
         "type": "integer"
        },
        {
         "name": "Currency",
         "rawType": "object",
         "type": "string"
        },
        {
         "name": "Country",
         "rawType": "object",
         "type": "string"
        },
        {
         "name": "0",
         "rawType": "int64",
         "type": "integer"
        }
       ],
       "ref": "1f8ecc27-25ba-47cb-a825-316995da1c55",
       "rows": [
        [
         "0",
         "Botswana Pula(P)",
         "Phillipines",
         "22"
        ],
        [
         "1",
         "Brazilian Real(R$)",
         "Brazil",
         "60"
        ],
        [
         "2",
         "Dollar($)",
         "Australia",
         "24"
        ],
        [
         "3",
         "Dollar($)",
         "Canada",
         "4"
        ],
        [
         "4",
         "Dollar($)",
         "Singapore",
         "20"
        ],
        [
         "5",
         "Dollar($)",
         "United States",
         "434"
        ],
        [
         "6",
         "Emirati Diram(AED)",
         "UAE",
         "60"
        ],
        [
         "7",
         "Indian Rupees(Rs.)",
         "India",
         "8652"
        ],
        [
         "8",
         "Indonesian Rupiah(IDR)",
         "Indonesia",
         "21"
        ],
        [
         "9",
         "NewZealand($)",
         "New Zealand",
         "40"
        ],
        [
         "10",
         "Pounds(£)",
         "United Kingdom",
         "80"
        ],
        [
         "11",
         "Qatari Rial(QR)",
         "Qatar",
         "20"
        ],
        [
         "12",
         "Rand(R)",
         "South Africa",
         "60"
        ],
        [
         "13",
         "Sri Lankan Rupee(LKR)",
         "Sri Lanka",
         "20"
        ],
        [
         "14",
         "Turkish Lira(TL)",
         "Turkey",
         "34"
        ]
       ],
       "shape": {
        "columns": 3,
        "rows": 15
       }
      },
      "text/html": [
       "<div>\n",
       "<style scoped>\n",
       "    .dataframe tbody tr th:only-of-type {\n",
       "        vertical-align: middle;\n",
       "    }\n",
       "\n",
       "    .dataframe tbody tr th {\n",
       "        vertical-align: top;\n",
       "    }\n",
       "\n",
       "    .dataframe thead th {\n",
       "        text-align: right;\n",
       "    }\n",
       "</style>\n",
       "<table border=\"1\" class=\"dataframe\">\n",
       "  <thead>\n",
       "    <tr style=\"text-align: right;\">\n",
       "      <th></th>\n",
       "      <th>Currency</th>\n",
       "      <th>Country</th>\n",
       "      <th>0</th>\n",
       "    </tr>\n",
       "  </thead>\n",
       "  <tbody>\n",
       "    <tr>\n",
       "      <th>0</th>\n",
       "      <td>Botswana Pula(P)</td>\n",
       "      <td>Phillipines</td>\n",
       "      <td>22</td>\n",
       "    </tr>\n",
       "    <tr>\n",
       "      <th>1</th>\n",
       "      <td>Brazilian Real(R$)</td>\n",
       "      <td>Brazil</td>\n",
       "      <td>60</td>\n",
       "    </tr>\n",
       "    <tr>\n",
       "      <th>2</th>\n",
       "      <td>Dollar($)</td>\n",
       "      <td>Australia</td>\n",
       "      <td>24</td>\n",
       "    </tr>\n",
       "    <tr>\n",
       "      <th>3</th>\n",
       "      <td>Dollar($)</td>\n",
       "      <td>Canada</td>\n",
       "      <td>4</td>\n",
       "    </tr>\n",
       "    <tr>\n",
       "      <th>4</th>\n",
       "      <td>Dollar($)</td>\n",
       "      <td>Singapore</td>\n",
       "      <td>20</td>\n",
       "    </tr>\n",
       "    <tr>\n",
       "      <th>5</th>\n",
       "      <td>Dollar($)</td>\n",
       "      <td>United States</td>\n",
       "      <td>434</td>\n",
       "    </tr>\n",
       "    <tr>\n",
       "      <th>6</th>\n",
       "      <td>Emirati Diram(AED)</td>\n",
       "      <td>UAE</td>\n",
       "      <td>60</td>\n",
       "    </tr>\n",
       "    <tr>\n",
       "      <th>7</th>\n",
       "      <td>Indian Rupees(Rs.)</td>\n",
       "      <td>India</td>\n",
       "      <td>8652</td>\n",
       "    </tr>\n",
       "    <tr>\n",
       "      <th>8</th>\n",
       "      <td>Indonesian Rupiah(IDR)</td>\n",
       "      <td>Indonesia</td>\n",
       "      <td>21</td>\n",
       "    </tr>\n",
       "    <tr>\n",
       "      <th>9</th>\n",
       "      <td>NewZealand($)</td>\n",
       "      <td>New Zealand</td>\n",
       "      <td>40</td>\n",
       "    </tr>\n",
       "    <tr>\n",
       "      <th>10</th>\n",
       "      <td>Pounds(£)</td>\n",
       "      <td>United Kingdom</td>\n",
       "      <td>80</td>\n",
       "    </tr>\n",
       "    <tr>\n",
       "      <th>11</th>\n",
       "      <td>Qatari Rial(QR)</td>\n",
       "      <td>Qatar</td>\n",
       "      <td>20</td>\n",
       "    </tr>\n",
       "    <tr>\n",
       "      <th>12</th>\n",
       "      <td>Rand(R)</td>\n",
       "      <td>South Africa</td>\n",
       "      <td>60</td>\n",
       "    </tr>\n",
       "    <tr>\n",
       "      <th>13</th>\n",
       "      <td>Sri Lankan Rupee(LKR)</td>\n",
       "      <td>Sri Lanka</td>\n",
       "      <td>20</td>\n",
       "    </tr>\n",
       "    <tr>\n",
       "      <th>14</th>\n",
       "      <td>Turkish Lira(TL)</td>\n",
       "      <td>Turkey</td>\n",
       "      <td>34</td>\n",
       "    </tr>\n",
       "  </tbody>\n",
       "</table>\n",
       "</div>"
      ],
      "text/plain": [
       "                  Currency         Country     0\n",
       "0         Botswana Pula(P)     Phillipines    22\n",
       "1       Brazilian Real(R$)          Brazil    60\n",
       "2                Dollar($)       Australia    24\n",
       "3                Dollar($)          Canada     4\n",
       "4                Dollar($)       Singapore    20\n",
       "5                Dollar($)   United States   434\n",
       "6       Emirati Diram(AED)             UAE    60\n",
       "7       Indian Rupees(Rs.)           India  8652\n",
       "8   Indonesian Rupiah(IDR)       Indonesia    21\n",
       "9            NewZealand($)     New Zealand    40\n",
       "10              Pounds(£)  United Kingdom    80\n",
       "11         Qatari Rial(QR)           Qatar    20\n",
       "12                 Rand(R)    South Africa    60\n",
       "13   Sri Lankan Rupee(LKR)       Sri Lanka    20\n",
       "14        Turkish Lira(TL)          Turkey    34"
      ]
     },
     "execution_count": 26,
     "metadata": {},
     "output_type": "execute_result"
    }
   ],
   "source": [
    "country_currency = final_df.groupby(['Currency', 'Country']).size().reset_index()\n",
    "country_currency"
   ]
  },
  {
   "cell_type": "code",
   "execution_count": null,
   "id": "dc540cc3",
   "metadata": {},
   "outputs": [
    {
     "data": {
      "application/vnd.microsoft.datawrangler.viewer.v0+json": {
       "columns": [
        {
         "name": "Country",
         "rawType": "object",
         "type": "string"
        },
        {
         "name": "count",
         "rawType": "int64",
         "type": "integer"
        }
       ],
       "ref": "2ca9eded-810f-4d8b-964b-45d4cee6e227",
       "rows": [
        [
         "India",
         "2423"
        ],
        [
         "UAE",
         "28"
        ]
       ],
       "shape": {
        "columns": 1,
        "rows": 2
       }
      },
      "text/plain": [
       "Country\n",
       "India    2423\n",
       "UAE        28\n",
       "Name: count, dtype: int64"
      ]
     },
     "execution_count": 31,
     "metadata": {},
     "output_type": "execute_result"
    }
   ],
   "source": [
    "final_df[final_df['Has Online delivery']=='Yes'].Country.value_counts()"
   ]
  },
  {
   "cell_type": "code",
   "execution_count": null,
   "id": "42594f38",
   "metadata": {},
   "outputs": [
    {
     "data": {
      "application/vnd.microsoft.datawrangler.viewer.v0+json": {
       "columns": [
        {
         "name": "index",
         "rawType": "int64",
         "type": "integer"
        },
        {
         "name": "Country",
         "rawType": "object",
         "type": "string"
        },
        {
         "name": "Has Online delivery",
         "rawType": "object",
         "type": "string"
        },
        {
         "name": "0",
         "rawType": "int64",
         "type": "integer"
        }
       ],
       "ref": "f15a4ca8-ac5d-4abd-8698-547661df305d",
       "rows": [
        [
         "0",
         "Australia",
         "No",
         "24"
        ],
        [
         "1",
         "Brazil",
         "No",
         "60"
        ],
        [
         "2",
         "Canada",
         "No",
         "4"
        ],
        [
         "3",
         "India",
         "No",
         "6229"
        ],
        [
         "4",
         "India",
         "Yes",
         "2423"
        ],
        [
         "5",
         "Indonesia",
         "No",
         "21"
        ],
        [
         "6",
         "New Zealand",
         "No",
         "40"
        ],
        [
         "7",
         "Phillipines",
         "No",
         "22"
        ],
        [
         "8",
         "Qatar",
         "No",
         "20"
        ],
        [
         "9",
         "Singapore",
         "No",
         "20"
        ],
        [
         "10",
         "South Africa",
         "No",
         "60"
        ],
        [
         "11",
         "Sri Lanka",
         "No",
         "20"
        ],
        [
         "12",
         "Turkey",
         "No",
         "34"
        ],
        [
         "13",
         "UAE",
         "No",
         "32"
        ],
        [
         "14",
         "UAE",
         "Yes",
         "28"
        ],
        [
         "15",
         "United Kingdom",
         "No",
         "80"
        ],
        [
         "16",
         "United States",
         "No",
         "434"
        ]
       ],
       "shape": {
        "columns": 3,
        "rows": 17
       }
      },
      "text/html": [
       "<div>\n",
       "<style scoped>\n",
       "    .dataframe tbody tr th:only-of-type {\n",
       "        vertical-align: middle;\n",
       "    }\n",
       "\n",
       "    .dataframe tbody tr th {\n",
       "        vertical-align: top;\n",
       "    }\n",
       "\n",
       "    .dataframe thead th {\n",
       "        text-align: right;\n",
       "    }\n",
       "</style>\n",
       "<table border=\"1\" class=\"dataframe\">\n",
       "  <thead>\n",
       "    <tr style=\"text-align: right;\">\n",
       "      <th></th>\n",
       "      <th>Country</th>\n",
       "      <th>Has Online delivery</th>\n",
       "      <th>0</th>\n",
       "    </tr>\n",
       "  </thead>\n",
       "  <tbody>\n",
       "    <tr>\n",
       "      <th>0</th>\n",
       "      <td>Australia</td>\n",
       "      <td>No</td>\n",
       "      <td>24</td>\n",
       "    </tr>\n",
       "    <tr>\n",
       "      <th>1</th>\n",
       "      <td>Brazil</td>\n",
       "      <td>No</td>\n",
       "      <td>60</td>\n",
       "    </tr>\n",
       "    <tr>\n",
       "      <th>2</th>\n",
       "      <td>Canada</td>\n",
       "      <td>No</td>\n",
       "      <td>4</td>\n",
       "    </tr>\n",
       "    <tr>\n",
       "      <th>3</th>\n",
       "      <td>India</td>\n",
       "      <td>No</td>\n",
       "      <td>6229</td>\n",
       "    </tr>\n",
       "    <tr>\n",
       "      <th>4</th>\n",
       "      <td>India</td>\n",
       "      <td>Yes</td>\n",
       "      <td>2423</td>\n",
       "    </tr>\n",
       "    <tr>\n",
       "      <th>5</th>\n",
       "      <td>Indonesia</td>\n",
       "      <td>No</td>\n",
       "      <td>21</td>\n",
       "    </tr>\n",
       "    <tr>\n",
       "      <th>6</th>\n",
       "      <td>New Zealand</td>\n",
       "      <td>No</td>\n",
       "      <td>40</td>\n",
       "    </tr>\n",
       "    <tr>\n",
       "      <th>7</th>\n",
       "      <td>Phillipines</td>\n",
       "      <td>No</td>\n",
       "      <td>22</td>\n",
       "    </tr>\n",
       "    <tr>\n",
       "      <th>8</th>\n",
       "      <td>Qatar</td>\n",
       "      <td>No</td>\n",
       "      <td>20</td>\n",
       "    </tr>\n",
       "    <tr>\n",
       "      <th>9</th>\n",
       "      <td>Singapore</td>\n",
       "      <td>No</td>\n",
       "      <td>20</td>\n",
       "    </tr>\n",
       "    <tr>\n",
       "      <th>10</th>\n",
       "      <td>South Africa</td>\n",
       "      <td>No</td>\n",
       "      <td>60</td>\n",
       "    </tr>\n",
       "    <tr>\n",
       "      <th>11</th>\n",
       "      <td>Sri Lanka</td>\n",
       "      <td>No</td>\n",
       "      <td>20</td>\n",
       "    </tr>\n",
       "    <tr>\n",
       "      <th>12</th>\n",
       "      <td>Turkey</td>\n",
       "      <td>No</td>\n",
       "      <td>34</td>\n",
       "    </tr>\n",
       "    <tr>\n",
       "      <th>13</th>\n",
       "      <td>UAE</td>\n",
       "      <td>No</td>\n",
       "      <td>32</td>\n",
       "    </tr>\n",
       "    <tr>\n",
       "      <th>14</th>\n",
       "      <td>UAE</td>\n",
       "      <td>Yes</td>\n",
       "      <td>28</td>\n",
       "    </tr>\n",
       "    <tr>\n",
       "      <th>15</th>\n",
       "      <td>United Kingdom</td>\n",
       "      <td>No</td>\n",
       "      <td>80</td>\n",
       "    </tr>\n",
       "    <tr>\n",
       "      <th>16</th>\n",
       "      <td>United States</td>\n",
       "      <td>No</td>\n",
       "      <td>434</td>\n",
       "    </tr>\n",
       "  </tbody>\n",
       "</table>\n",
       "</div>"
      ],
      "text/plain": [
       "           Country Has Online delivery     0\n",
       "0        Australia                  No    24\n",
       "1           Brazil                  No    60\n",
       "2           Canada                  No     4\n",
       "3            India                  No  6229\n",
       "4            India                 Yes  2423\n",
       "5        Indonesia                  No    21\n",
       "6      New Zealand                  No    40\n",
       "7      Phillipines                  No    22\n",
       "8            Qatar                  No    20\n",
       "9        Singapore                  No    20\n",
       "10    South Africa                  No    60\n",
       "11       Sri Lanka                  No    20\n",
       "12          Turkey                  No    34\n",
       "13             UAE                  No    32\n",
       "14             UAE                 Yes    28\n",
       "15  United Kingdom                  No    80\n",
       "16   United States                  No   434"
      ]
     },
     "execution_count": 32,
     "metadata": {},
     "output_type": "execute_result"
    }
   ],
   "source": [
    "country_online=final_df.groupby(['Country','Has Online delivery']).size().reset_index()\n",
    "country_online"
   ]
  },
  {
   "cell_type": "markdown",
   "id": "4861736c",
   "metadata": {},
   "source": [
    "Observation :\n",
    "Online delivery are available in India and UAE"
   ]
  },
  {
   "cell_type": "code",
   "execution_count": null,
   "id": "fcfda145",
   "metadata": {},
   "outputs": [
    {
     "data": {
      "text/plain": [
       "Index(['New Delhi', 'Gurgaon', 'Noida', 'Faridabad', 'Ghaziabad',\n",
       "       'Bhubaneshwar', 'Amritsar', 'Ahmedabad', 'Lucknow', 'Guwahati',\n",
       "       ...\n",
       "       'Ojo Caliente', 'Montville', 'Monroe', 'Miller', 'Middleton Beach',\n",
       "       'Panchkula', 'Mc Millan', 'Mayfield', 'Macedon', 'Vineland Station'],\n",
       "      dtype='object', name='City', length=141)"
      ]
     },
     "execution_count": 37,
     "metadata": {},
     "output_type": "execute_result"
    }
   ],
   "source": [
    "city_name=final_df.City.value_counts().index\n",
    "city_name"
   ]
  },
  {
   "cell_type": "code",
   "execution_count": null,
   "id": "3986521b",
   "metadata": {},
   "outputs": [
    {
     "data": {
      "application/vnd.microsoft.datawrangler.viewer.v0+json": {
       "columns": [
        {
         "name": "City",
         "rawType": "object",
         "type": "string"
        },
        {
         "name": "count",
         "rawType": "int64",
         "type": "integer"
        }
       ],
       "ref": "d9796edb-d431-4d14-9235-567814cd06b2",
       "rows": [
        [
         "New Delhi",
         "5473"
        ],
        [
         "Gurgaon",
         "1118"
        ],
        [
         "Noida",
         "1080"
        ],
        [
         "Faridabad",
         "251"
        ],
        [
         "Ghaziabad",
         "25"
        ],
        [
         "Bhubaneshwar",
         "21"
        ],
        [
         "Amritsar",
         "21"
        ],
        [
         "Ahmedabad",
         "21"
        ],
        [
         "Lucknow",
         "21"
        ],
        [
         "Guwahati",
         "21"
        ],
        [
         "Ludhiana",
         "20"
        ],
        [
         "Rest of Hawaii",
         "20"
        ],
        [
         "Kochi",
         "20"
        ],
        [
         "Kolkata",
         "20"
        ],
        [
         "Pocatello",
         "20"
        ],
        [
         "Pensacola",
         "20"
        ],
        [
         "Mumbai",
         "20"
        ],
        [
         "Mangalore",
         "20"
        ],
        [
         "Singapore",
         "20"
        ],
        [
         "Orlando",
         "20"
        ],
        [
         "Mysore",
         "20"
        ],
        [
         "Nagpur",
         "20"
        ],
        [
         "Nashik",
         "20"
        ],
        [
         "Coimbatore",
         "20"
        ],
        [
         "Dehradun",
         "20"
        ],
        [
         "Savannah",
         "20"
        ],
        [
         "Tampa Bay",
         "20"
        ],
        [
         "Sioux City",
         "20"
        ],
        [
         "Abu Dhabi",
         "20"
        ],
        [
         "Bangalore",
         "20"
        ],
        [
         "Aurangabad",
         "20"
        ],
        [
         "Allahabad",
         "20"
        ],
        [
         "Agra",
         "20"
        ],
        [
         "Sharjah",
         "20"
        ],
        [
         "Dubai",
         "20"
        ],
        [
         "Goa",
         "20"
        ],
        [
         "Bhopal",
         "20"
        ],
        [
         "Chennai",
         "20"
        ],
        [
         "Waterloo",
         "20"
        ],
        [
         "Indore",
         "20"
        ],
        [
         "Valdosta",
         "20"
        ],
        [
         "Puducherry",
         "20"
        ],
        [
         "Kanpur",
         "20"
        ],
        [
         "Jaipur",
         "20"
        ],
        [
         "Patna",
         "20"
        ],
        [
         "Macon",
         "20"
        ],
        [
         "Edinburgh",
         "20"
        ],
        [
         "London",
         "20"
        ],
        [
         "Manchester",
         "20"
        ],
        [
         "Pune",
         "20"
        ]
       ],
       "shape": {
        "columns": 1,
        "rows": 141
       }
      },
      "text/plain": [
       "City\n",
       "New Delhi           5473\n",
       "Gurgaon             1118\n",
       "Noida               1080\n",
       "Faridabad            251\n",
       "Ghaziabad             25\n",
       "                    ... \n",
       "Panchkula              1\n",
       "Mc Millan              1\n",
       "Mayfield               1\n",
       "Macedon                1\n",
       "Vineland Station       1\n",
       "Name: count, Length: 141, dtype: int64"
      ]
     },
     "execution_count": 36,
     "metadata": {},
     "output_type": "execute_result"
    }
   ],
   "source": [
    "city_value=final_df.City.value_counts()\n",
    "city_value"
   ]
  },
  {
   "cell_type": "code",
   "execution_count": null,
   "id": "9643ce23",
   "metadata": {},
   "outputs": [
    {
     "data": {
      "image/png": "[encoded data removed]",
      "text/plain": [
       "<Figure size 1200x600 with 1 Axes>"
      ]
     },
     "metadata": {},
     "output_type": "display_data"
    }
   ],
   "source": [
    "plt.pie(city_value,labels=city_name,autopct='%1.2F%%')\n",
    "plt.ylabel='city_name'\n",
    "plt.title='City Distribution'\n",
    "plt.show()"
   ]
  },
  {
   "cell_type": "code",
   "execution_count": null,
   "id": "55427026",
   "metadata": {},
   "outputs": [
    {
     "data": {
      "image/png": "[encoded data removed]",
      "text/plain": [
       "<Figure size 1200x600 with 1 Axes>"
      ]
     },
     "metadata": {},
     "output_type": "display_data"
    }
   ],
   "source": [
    "plt.pie(city_value[:5],labels=city_name[:5],autopct='%0.2F%%')\n",
    "plt.ylabel='city_name'\n",
    "plt.title='City Distribution'\n",
    "plt.show()"
   ]
  },
  {
   "cell_type": "code",
   "execution_count": null,
   "id": "5ce1d636",
   "metadata": {},
   "outputs": [
    {
     "data": {
      "text/plain": [
       "Index(['Restaurant ID', 'Restaurant Name', 'Country Code', 'City', 'Address',\n",
       "       'Locality', 'Locality Verbose', 'Longitude', 'Latitude', 'Cuisines',\n",
       "       'Average Cost for two', 'Currency', 'Has Table booking',\n",
       "       'Has Online delivery', 'Is delivering now', 'Switch to order menu',\n",
       "       'Price range', 'Aggregate rating', 'Rating color', 'Rating text',\n",
       "       'Votes', 'Country'],\n",
       "      dtype='object')"
      ]
     },
     "execution_count": 50,
     "metadata": {},
     "output_type": "execute_result"
    }
   ],
   "source": [
    "final_df.columns"
   ]
  },
  {
   "cell_type": "markdown",
   "id": "b01e5153",
   "metadata": {},
   "source": [
    "Find top 10 cuisines"
   ]
  },
  {
   "cell_type": "code",
   "execution_count": null,
   "id": "3992986a",
   "metadata": {},
   "outputs": [
    {
     "data": {
      "application/vnd.microsoft.datawrangler.viewer.v0+json": {
       "columns": [
        {
         "name": "index",
         "rawType": "int64",
         "type": "integer"
        },
        {
         "name": "Cuisines",
         "rawType": "object",
         "type": "string"
        }
       ],
       "ref": "4bba0dea-a381-4125-bd76-2975f7640baf",
       "rows": [
        [
         "9547",
         "World Cuisine, Patisserie, Cafe"
        ],
        [
         "9525",
         "World Cuisine, Mexican, Italian"
        ],
        [
         "9524",
         "World Cuisine"
        ],
        [
         "471",
         "Western, Fusion, Fast Food"
        ],
        [
         "9285",
         "Western, Asian, Cafe"
        ],
        [
         "9327",
         "Vietnamese, Fish and Chips"
        ],
        [
         "139",
         "Vietnamese"
        ],
        [
         "3975",
         "Vietnamese"
        ],
        [
         "3768",
         "Turkish, Mediterranean, Middle Eastern"
        ],
        [
         "5935",
         "Turkish, Arabian, Moroccan, Lebanese"
        ]
       ],
       "shape": {
        "columns": 1,
        "rows": 10
       }
      },
      "text/plain": [
       "9547           World Cuisine, Patisserie, Cafe\n",
       "9525           World Cuisine, Mexican, Italian\n",
       "9524                             World Cuisine\n",
       "471                 Western, Fusion, Fast Food\n",
       "9285                      Western, Asian, Cafe\n",
       "9327                Vietnamese, Fish and Chips\n",
       "139                                 Vietnamese\n",
       "3975                                Vietnamese\n",
       "3768    Turkish, Mediterranean, Middle Eastern\n",
       "5935      Turkish, Arabian, Moroccan, Lebanese\n",
       "Name: Cuisines, dtype: object"
      ]
     },
     "execution_count": 52,
     "metadata": {},
     "output_type": "execute_result"
    }
   ],
   "source": [
    "final_df['Cuisines'].sort_values(ascending=False).head(10)"
   ]
  }
 ],
 "metadata": {
  "kernelspec": {
   "display_name": "base",
   "language": "python",
   "name": "python3"
  },
  "language_info": {
   "codemirror_mode": {
    "name": "ipython",
    "version": 3
   },
   "file_extension": ".py",
   "mimetype": "text/x-python",
   "name": "python",
   "nbconvert_exporter": "python",
   "pygments_lexer": "ipython3",
   "version": "3.12.7"
  }
 },
 "nbformat": 4,
 "nbformat_minor": 5
}
