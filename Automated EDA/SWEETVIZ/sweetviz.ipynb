{
 "cells": [
  {
   "cell_type": "code",
   "execution_count": 2,
   "id": "121be530",
   "metadata": {},
   "outputs": [],
   "source": [
    "# %pip install sweetviz"
   ]
  },
  {
   "cell_type": "code",
   "execution_count": 3,
   "id": "9c522325",
   "metadata": {},
   "outputs": [],
   "source": [
    "import pandas as pd\n"
   ]
  },
  {
   "cell_type": "code",
   "execution_count": 4,
   "id": "e5987e2f",
   "metadata": {},
   "outputs": [
    {
     "data": {
      "application/vnd.microsoft.datawrangler.viewer.v0+json": {
       "columns": [
        {
         "name": "index",
         "rawType": "int64",
         "type": "integer"
        },
        {
         "name": "alcohol",
         "rawType": "float64",
         "type": "float"
        },
        {
         "name": "vintage_year",
         "rawType": "float64",
         "type": "float"
        },
        {
         "name": "pH",
         "rawType": "float64",
         "type": "float"
        },
        {
         "name": "residual_sugar",
         "rawType": "float64",
         "type": "float"
        },
        {
         "name": "total_sulfur_dioxide",
         "rawType": "float64",
         "type": "float"
        },
        {
         "name": "density",
         "rawType": "float64",
         "type": "float"
        },
        {
         "name": "variety",
         "rawType": "object",
         "type": "string"
        },
        {
         "name": "region",
         "rawType": "object",
         "type": "string"
        },
        {
         "name": "bottle_size",
         "rawType": "object",
         "type": "string"
        },
        {
         "name": "winery",
         "rawType": "object",
         "type": "string"
        },
        {
         "name": "price",
         "rawType": "float64",
         "type": "float"
        }
       ],
       "ref": "a550a66c-a8f9-4083-9974-8e898f7a21c0",
       "rows": [
        [
         "0",
         "10.621780831931538",
         "2009.0",
         "3.0062014683002998",
         "30.80317654251816",
         "45.98234010671313",
         "0.990933544916907",
         "Pinot Noir",
         "Tuscany",
         "375ml",
         "WineryA",
         "1203.3176197218431"
        ],
        [
         "1",
         "14.655000144869414",
         "1997.0",
         "3.229776239682032",
         "46.677230334632384",
         "317.3721515111709",
         "1.003842721037223",
         "Merlot",
         "Napa",
         "375ml",
         "WineryA",
         "1222.0459088509972"
        ],
        [
         "2",
         "13.123957592679837",
         "1990.0",
         "3.0315213235513543",
         "46.586024449882125",
         "148.78726291108688",
         "0.9912415280028284",
         "Pinot Noir",
         "Mendoza",
         "750ml",
         "WineryD",
         "1209.0367969432252"
        ],
        [
         "3",
         "12.190609389379256",
         "2008.0",
         "3.0446637705526287",
         "28.64752087573586",
         "343.3330095616457",
         "0.9950592932007538",
         "Chardonnay",
         "Bordeaux",
         "1.5L",
         "WineryB",
         "1209.493517822364"
        ],
        [
         "4",
         "9.092130483097057",
         "1996.0",
         null,
         "14.95081009359916",
         "128.16318290925653",
         "1.0014386118364549",
         "Cabernet",
         "Mendoza",
         "750ml",
         "WineryB",
         "1211.2397271771065"
        ]
       ],
       "shape": {
        "columns": 11,
        "rows": 5
       }
      },
      "text/html": [
       "<div>\n",
       "<style scoped>\n",
       "    .dataframe tbody tr th:only-of-type {\n",
       "        vertical-align: middle;\n",
       "    }\n",
       "\n",
       "    .dataframe tbody tr th {\n",
       "        vertical-align: top;\n",
       "    }\n",
       "\n",
       "    .dataframe thead th {\n",
       "        text-align: right;\n",
       "    }\n",
       "</style>\n",
       "<table border=\"1\" class=\"dataframe\">\n",
       "  <thead>\n",
       "    <tr style=\"text-align: right;\">\n",
       "      <th></th>\n",
       "      <th>alcohol</th>\n",
       "      <th>vintage_year</th>\n",
       "      <th>pH</th>\n",
       "      <th>residual_sugar</th>\n",
       "      <th>total_sulfur_dioxide</th>\n",
       "      <th>density</th>\n",
       "      <th>variety</th>\n",
       "      <th>region</th>\n",
       "      <th>bottle_size</th>\n",
       "      <th>winery</th>\n",
       "      <th>price</th>\n",
       "    </tr>\n",
       "  </thead>\n",
       "  <tbody>\n",
       "    <tr>\n",
       "      <th>0</th>\n",
       "      <td>10.621781</td>\n",
       "      <td>2009.0</td>\n",
       "      <td>3.006201</td>\n",
       "      <td>30.803177</td>\n",
       "      <td>45.982340</td>\n",
       "      <td>0.990934</td>\n",
       "      <td>Pinot Noir</td>\n",
       "      <td>Tuscany</td>\n",
       "      <td>375ml</td>\n",
       "      <td>WineryA</td>\n",
       "      <td>1203.317620</td>\n",
       "    </tr>\n",
       "    <tr>\n",
       "      <th>1</th>\n",
       "      <td>14.655000</td>\n",
       "      <td>1997.0</td>\n",
       "      <td>3.229776</td>\n",
       "      <td>46.677230</td>\n",
       "      <td>317.372152</td>\n",
       "      <td>1.003843</td>\n",
       "      <td>Merlot</td>\n",
       "      <td>Napa</td>\n",
       "      <td>375ml</td>\n",
       "      <td>WineryA</td>\n",
       "      <td>1222.045909</td>\n",
       "    </tr>\n",
       "    <tr>\n",
       "      <th>2</th>\n",
       "      <td>13.123958</td>\n",
       "      <td>1990.0</td>\n",
       "      <td>3.031521</td>\n",
       "      <td>46.586024</td>\n",
       "      <td>148.787263</td>\n",
       "      <td>0.991242</td>\n",
       "      <td>Pinot Noir</td>\n",
       "      <td>Mendoza</td>\n",
       "      <td>750ml</td>\n",
       "      <td>WineryD</td>\n",
       "      <td>1209.036797</td>\n",
       "    </tr>\n",
       "    <tr>\n",
       "      <th>3</th>\n",
       "      <td>12.190609</td>\n",
       "      <td>2008.0</td>\n",
       "      <td>3.044664</td>\n",
       "      <td>28.647521</td>\n",
       "      <td>343.333010</td>\n",
       "      <td>0.995059</td>\n",
       "      <td>Chardonnay</td>\n",
       "      <td>Bordeaux</td>\n",
       "      <td>1.5L</td>\n",
       "      <td>WineryB</td>\n",
       "      <td>1209.493518</td>\n",
       "    </tr>\n",
       "    <tr>\n",
       "      <th>4</th>\n",
       "      <td>9.092130</td>\n",
       "      <td>1996.0</td>\n",
       "      <td>NaN</td>\n",
       "      <td>14.950810</td>\n",
       "      <td>128.163183</td>\n",
       "      <td>1.001439</td>\n",
       "      <td>Cabernet</td>\n",
       "      <td>Mendoza</td>\n",
       "      <td>750ml</td>\n",
       "      <td>WineryB</td>\n",
       "      <td>1211.239727</td>\n",
       "    </tr>\n",
       "  </tbody>\n",
       "</table>\n",
       "</div>"
      ],
      "text/plain": [
       "     alcohol  vintage_year        pH  residual_sugar  total_sulfur_dioxide  \\\n",
       "0  10.621781        2009.0  3.006201       30.803177             45.982340   \n",
       "1  14.655000        1997.0  3.229776       46.677230            317.372152   \n",
       "2  13.123958        1990.0  3.031521       46.586024            148.787263   \n",
       "3  12.190609        2008.0  3.044664       28.647521            343.333010   \n",
       "4   9.092130        1996.0       NaN       14.950810            128.163183   \n",
       "\n",
       "    density     variety    region bottle_size   winery        price  \n",
       "0  0.990934  Pinot Noir   Tuscany       375ml  WineryA  1203.317620  \n",
       "1  1.003843      Merlot      Napa       375ml  WineryA  1222.045909  \n",
       "2  0.991242  Pinot Noir   Mendoza       750ml  WineryD  1209.036797  \n",
       "3  0.995059  Chardonnay  Bordeaux        1.5L  WineryB  1209.493518  \n",
       "4  1.001439    Cabernet   Mendoza       750ml  WineryB  1211.239727  "
      ]
     },
     "execution_count": 4,
     "metadata": {},
     "output_type": "execute_result"
    }
   ],
   "source": [
    "df=pd.read_csv('synthetic_wine_price.csv')\n",
    "df.head()"
   ]
  },
  {
   "cell_type": "code",
   "execution_count": 5,
   "id": "442c922d",
   "metadata": {},
   "outputs": [
    {
     "data": {
      "application/vnd.jupyter.widget-view+json": {
       "model_id": "d36e34818eac4b66a2a3bde3a9cfe1f4",
       "version_major": 2,
       "version_minor": 0
      },
      "text/plain": [
       "                                             |          | [  0%]   00:00 -> (? left)"
      ]
     },
     "metadata": {},
     "output_type": "display_data"
    },
    {
     "name": "stdout",
     "output_type": "stream",
     "text": [
      "Report SWEETVIZ_REPORT.html was generated! NOTEBOOK/COLAB USERS: the web browser MAY not pop up, regardless, the report IS saved in your notebook/colab files.\n"
     ]
    }
   ],
   "source": [
    "import sweetviz as sv\n",
    "\n",
    "my_report=sv.analyze(df)\n",
    "my_report.show_html()"
   ]
  }
 ],
 "metadata": {
  "kernelspec": {
   "display_name": "base",
   "language": "python",
   "name": "python3"
  },
  "language_info": {
   "codemirror_mode": {
    "name": "ipython",
    "version": 3
   },
   "file_extension": ".py",
   "mimetype": "text/x-python",
   "name": "python",
   "nbconvert_exporter": "python",
   "pygments_lexer": "ipython3",
   "version": "3.12.7"
  }
 },
 "nbformat": 4,
 "nbformat_minor": 5
}
